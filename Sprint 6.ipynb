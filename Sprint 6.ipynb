{
 "cells": [
  {
   "cell_type": "markdown",
   "metadata": {},
   "source": [
    "¡Hola!\n",
    "\n",
    "Mi nombre es Tonatiuh Cruz. Me complace revisar tu proyecto hoy.\n",
    "\n",
    "Al identificar cualquier error inicialmente, simplemente los destacaré. Te animo a localizar y abordar los problemas de forma independiente como parte de tu preparación para un rol como data-scientist. En un entorno profesional, tu líder de equipo seguiría un enfoque similar. Si encuentras la tarea desafiante, proporcionaré una pista más específica en la próxima iteración.\n",
    "\n",
    "Encontrarás mis comentarios a continuación - **por favor no los muevas, modifiques o elimines**.\n",
    "\n",
    "Puedes encontrar mis comentarios en cajas verdes, amarillas o rojas como esta:\n",
    "\n",
    "<div class=\"alert alert-block alert-success\">\n",
    "<b>Comentario del revisor</b> <a class=\"tocSkip\"></a>\n",
    "\n",
    "Éxito. Todo está hecho correctamente.\n",
    "</div>\n",
    "\n",
    "<div class=\"alert alert-block alert-warning\">\n",
    "<b>Comentario del revisor</b> <a class=\"tocSkip\"></a>\n",
    "\n",
    "Observaciones. Algunas recomendaciones.\n",
    "</div>\n",
    "\n",
    "<div class=\"alert alert-block alert-danger\">\n",
    "<b>Comentario del revisor</b> <a class=\"tocSkip\"></a>\n",
    "\n",
    "Necesita corrección. El bloque requiere algunas correcciones. El trabajo no puede ser aceptado con comentarios en rojo.\n",
    "</div>\n",
    "\n",
    "Puedes responderme utilizando esto:\n",
    "\n",
    "<div class=\"alert alert-block alert-info\">\n",
    "<b>Respuesta del estudiante.</b> <a class=\"tocSkip\"></a>\n",
    "</div>"
   ]
  },
  {
   "cell_type": "markdown",
   "metadata": {},
   "source": [
    "<div class=\"alert alert-block alert-warning\">\n",
    "<b>Comentario del revisor</b> <a class=\"tocSkip\"></a>\n",
    "\n",
    "¡Hola! Recuerda que para los ejercicio de análisis de datos es necesario desarrollar la introducción, objetivo y etapas de análisis. Esto es crucial para cualquier proyecto, ya que establece una guía clara sobre los pasos a seguir. Tener estos elementos bien definidos desde el principio nos permite trabajar de manera más organizada y eficiente. En un futuro lo podrías complementar con una tabla de contenido.\n",
    "</div>"
   ]
  },
  {
   "cell_type": "markdown",
   "metadata": {},
   "source": [
    "# Proyecto Sprint 7"
   ]
  },
  {
   "cell_type": "markdown",
   "metadata": {},
   "source": [
    "<p> Paso 1. Abre el archivo de datos y estudia la informaci&oacute;n general  Ruta de archivo: /datasets/games.csv . Descarga el dataset</p>"
   ]
  },
  {
   "cell_type": "code",
   "execution_count": 7,
   "metadata": {},
   "outputs": [],
   "source": [
    "# Cargar todas las librerías\n",
    "\n",
    "import pandas as pd\n",
    "import numpy as np\n",
    "from scipy import stats as st\n",
    "import matplotlib.pyplot as plt\n",
    "import seaborn as sns"
   ]
  },
  {
   "cell_type": "code",
   "execution_count": 8,
   "metadata": {
    "scrolled": true,
    "tags": [
     "e5c1f0c2-db9f-43a0-99b9-4875c52427e8"
    ]
   },
   "outputs": [
    {
     "name": "stdout",
     "output_type": "stream",
     "text": [
      "<class 'pandas.core.frame.DataFrame'>\n",
      "RangeIndex: 16715 entries, 0 to 16714\n",
      "Data columns (total 11 columns):\n",
      " #   Column           Non-Null Count  Dtype  \n",
      "---  ------           --------------  -----  \n",
      " 0   Name             16713 non-null  object \n",
      " 1   Platform         16715 non-null  object \n",
      " 2   Year_of_Release  16446 non-null  float64\n",
      " 3   Genre            16713 non-null  object \n",
      " 4   NA_sales         16715 non-null  float64\n",
      " 5   EU_sales         16715 non-null  float64\n",
      " 6   JP_sales         16715 non-null  float64\n",
      " 7   Other_sales      16715 non-null  float64\n",
      " 8   Critic_Score     8137 non-null   float64\n",
      " 9   User_Score       10014 non-null  object \n",
      " 10  Rating           9949 non-null   object \n",
      "dtypes: float64(6), object(5)\n",
      "memory usage: 1.4+ MB\n",
      "None\n"
     ]
    },
    {
     "data": {
      "text/html": [
       "<div>\n",
       "<style scoped>\n",
       "    .dataframe tbody tr th:only-of-type {\n",
       "        vertical-align: middle;\n",
       "    }\n",
       "\n",
       "    .dataframe tbody tr th {\n",
       "        vertical-align: top;\n",
       "    }\n",
       "\n",
       "    .dataframe thead th {\n",
       "        text-align: right;\n",
       "    }\n",
       "</style>\n",
       "<table border=\"1\" class=\"dataframe\">\n",
       "  <thead>\n",
       "    <tr style=\"text-align: right;\">\n",
       "      <th></th>\n",
       "      <th>Name</th>\n",
       "      <th>Platform</th>\n",
       "      <th>Year_of_Release</th>\n",
       "      <th>Genre</th>\n",
       "      <th>NA_sales</th>\n",
       "      <th>EU_sales</th>\n",
       "      <th>JP_sales</th>\n",
       "      <th>Other_sales</th>\n",
       "      <th>Critic_Score</th>\n",
       "      <th>User_Score</th>\n",
       "      <th>Rating</th>\n",
       "    </tr>\n",
       "  </thead>\n",
       "  <tbody>\n",
       "    <tr>\n",
       "      <th>0</th>\n",
       "      <td>Wii Sports</td>\n",
       "      <td>Wii</td>\n",
       "      <td>2006.0</td>\n",
       "      <td>Sports</td>\n",
       "      <td>41.36</td>\n",
       "      <td>28.96</td>\n",
       "      <td>3.77</td>\n",
       "      <td>8.45</td>\n",
       "      <td>76.0</td>\n",
       "      <td>8</td>\n",
       "      <td>E</td>\n",
       "    </tr>\n",
       "    <tr>\n",
       "      <th>1</th>\n",
       "      <td>Super Mario Bros.</td>\n",
       "      <td>NES</td>\n",
       "      <td>1985.0</td>\n",
       "      <td>Platform</td>\n",
       "      <td>29.08</td>\n",
       "      <td>3.58</td>\n",
       "      <td>6.81</td>\n",
       "      <td>0.77</td>\n",
       "      <td>NaN</td>\n",
       "      <td>NaN</td>\n",
       "      <td>NaN</td>\n",
       "    </tr>\n",
       "    <tr>\n",
       "      <th>2</th>\n",
       "      <td>Mario Kart Wii</td>\n",
       "      <td>Wii</td>\n",
       "      <td>2008.0</td>\n",
       "      <td>Racing</td>\n",
       "      <td>15.68</td>\n",
       "      <td>12.76</td>\n",
       "      <td>3.79</td>\n",
       "      <td>3.29</td>\n",
       "      <td>82.0</td>\n",
       "      <td>8.3</td>\n",
       "      <td>E</td>\n",
       "    </tr>\n",
       "    <tr>\n",
       "      <th>3</th>\n",
       "      <td>Wii Sports Resort</td>\n",
       "      <td>Wii</td>\n",
       "      <td>2009.0</td>\n",
       "      <td>Sports</td>\n",
       "      <td>15.61</td>\n",
       "      <td>10.93</td>\n",
       "      <td>3.28</td>\n",
       "      <td>2.95</td>\n",
       "      <td>80.0</td>\n",
       "      <td>8</td>\n",
       "      <td>E</td>\n",
       "    </tr>\n",
       "    <tr>\n",
       "      <th>4</th>\n",
       "      <td>Pokemon Red/Pokemon Blue</td>\n",
       "      <td>GB</td>\n",
       "      <td>1996.0</td>\n",
       "      <td>Role-Playing</td>\n",
       "      <td>11.27</td>\n",
       "      <td>8.89</td>\n",
       "      <td>10.22</td>\n",
       "      <td>1.00</td>\n",
       "      <td>NaN</td>\n",
       "      <td>NaN</td>\n",
       "      <td>NaN</td>\n",
       "    </tr>\n",
       "  </tbody>\n",
       "</table>\n",
       "</div>"
      ],
      "text/plain": [
       "                       Name Platform  Year_of_Release         Genre  NA_sales  \\\n",
       "0                Wii Sports      Wii           2006.0        Sports     41.36   \n",
       "1         Super Mario Bros.      NES           1985.0      Platform     29.08   \n",
       "2            Mario Kart Wii      Wii           2008.0        Racing     15.68   \n",
       "3         Wii Sports Resort      Wii           2009.0        Sports     15.61   \n",
       "4  Pokemon Red/Pokemon Blue       GB           1996.0  Role-Playing     11.27   \n",
       "\n",
       "   EU_sales  JP_sales  Other_sales  Critic_Score User_Score Rating  \n",
       "0     28.96      3.77         8.45          76.0          8      E  \n",
       "1      3.58      6.81         0.77           NaN        NaN    NaN  \n",
       "2     12.76      3.79         3.29          82.0        8.3      E  \n",
       "3     10.93      3.28         2.95          80.0          8      E  \n",
       "4      8.89     10.22         1.00           NaN        NaN    NaN  "
      ]
     },
     "execution_count": 8,
     "metadata": {},
     "output_type": "execute_result"
    }
   ],
   "source": [
    "games = pd.read_csv('/datasets/games.csv')\n",
    "\n",
    "print(games.info())\n",
    "games.head()"
   ]
  },
  {
   "cell_type": "markdown",
   "metadata": {},
   "source": [
    "## preparación de datos"
   ]
  },
  {
   "cell_type": "markdown",
   "metadata": {},
   "source": [
    "\n",
    "<li>Reemplaza los nombres de las columnas (ponlos en min&uacute;sculas).</li>\n",
    "<li>Convierte los datos en los tipos necesarios.</li>\n",
    "<li>Describe las columnas en las que los tipos de datos han sido cambiados y explica por qu&eacute;.</li>\n",
    "<li>Si es necesario, elige la manera de tratar los valores ausentes:</li>\n",
    "<ul>\n",
    "<li>Explica por qu&eacute; rellenaste los valores ausentes como lo hiciste o por qu&eacute; decidiste dejarlos en blanco.</li>\n",
    "<li>&iquest;Por qu&eacute; crees que los valores est&aacute;n ausentes? Brinda explicaciones posibles.</li>\n",
    "<li>Presta atenci&oacute;n a la abreviatura TBD: significa \"to be determined\" (a determinar). Especifica c&oacute;mo piensas manejar estos casos.</li>\n",
    "</ul>\n",
    "<li>Calcula las ventas totales (la suma de las ventas en todas las regiones) para cada juego y coloca estos valores en una columna separada.</li>\n",
    "</ul>"
   ]
  },
  {
   "cell_type": "code",
   "execution_count": 9,
   "metadata": {},
   "outputs": [
    {
     "name": "stdout",
     "output_type": "stream",
     "text": [
      "                       name platform  year_of_release         genre  na_sales  \\\n",
      "0                Wii Sports      Wii           2006.0        Sports     41.36   \n",
      "1         Super Mario Bros.      NES           1985.0      Platform     29.08   \n",
      "2            Mario Kart Wii      Wii           2008.0        Racing     15.68   \n",
      "3         Wii Sports Resort      Wii           2009.0        Sports     15.61   \n",
      "4  Pokemon Red/Pokemon Blue       GB           1996.0  Role-Playing     11.27   \n",
      "\n",
      "   eu_sales  jp_sales  other_sales  critic_score user_score rating  \n",
      "0     28.96      3.77         8.45          76.0          8      E  \n",
      "1      3.58      6.81         0.77           NaN        NaN    NaN  \n",
      "2     12.76      3.79         3.29          82.0        8.3      E  \n",
      "3     10.93      3.28         2.95          80.0          8      E  \n",
      "4      8.89     10.22         1.00           NaN        NaN    NaN  \n"
     ]
    }
   ],
   "source": [
    "# Lista para almacenar los nuevos nombres de columnas\n",
    "new_col_names = []\n",
    "\n",
    "# Itera sobre los nombres actuales de las columnas en el DataFrame 'games'\n",
    "for old_name in games.columns:\n",
    "    # Elimina los espacios al principio y al final del nombre\n",
    "    name_stripped = old_name.strip()\n",
    "    # Convierte todas las letras a minúsculas\n",
    "    name_lowered = name_stripped.lower()\n",
    "    # Reemplaza los espacios entre palabras por guiones bajos\n",
    "    name_no_spaces = name_lowered.replace(' ', '_')\n",
    "    # Agrega el nuevo nombre a la lista de nuevos nombres de columna\n",
    "    new_col_names.append(name_no_spaces)\n",
    "\n",
    "# Reemplaza los nombres anteriores por los nuevos\n",
    "games.columns = new_col_names\n",
    "\n",
    "# Muestra los primeros registros para verificar los cambios\n",
    "print(games.head())\n"
   ]
  },
  {
   "cell_type": "code",
   "execution_count": 10,
   "metadata": {},
   "outputs": [
    {
     "name": "stdout",
     "output_type": "stream",
     "text": [
      "<class 'pandas.core.frame.DataFrame'>\n",
      "RangeIndex: 16715 entries, 0 to 16714\n",
      "Data columns (total 11 columns):\n",
      " #   Column           Non-Null Count  Dtype  \n",
      "---  ------           --------------  -----  \n",
      " 0   name             16713 non-null  object \n",
      " 1   platform         16715 non-null  object \n",
      " 2   year_of_release  16446 non-null  Int64  \n",
      " 3   genre            16713 non-null  object \n",
      " 4   na_sales         16715 non-null  float64\n",
      " 5   eu_sales         16715 non-null  float64\n",
      " 6   jp_sales         16715 non-null  float64\n",
      " 7   other_sales      16715 non-null  float64\n",
      " 8   critic_score     8137 non-null   float64\n",
      " 9   user_score       7590 non-null   float64\n",
      " 10  rating           9949 non-null   object \n",
      "dtypes: Int64(1), float64(6), object(4)\n",
      "memory usage: 1.4+ MB\n",
      "None\n"
     ]
    }
   ],
   "source": [
    "# Convertir 'Year_of_Release' de float a un int\n",
    "games['year_of_release'] = games['year_of_release'].astype('Int64')\n",
    "\n",
    "# Convertir 'User_Score' de object a float\n",
    "games['user_score'] = pd.to_numeric(games['user_score'], errors='coerce')\n",
    "\n",
    "print(games.info())\n"
   ]
  },
  {
   "cell_type": "markdown",
   "metadata": {},
   "source": [
    "<ul>\n",
    "<li>Se ha convertido la columna year_of_release en tipo int. Llenando los valores faltantes con 0.</li>\n",
    "<li>Se ha convertido la columna user_score a tipo float. Reemplazando cualquier valor no numerico con NaN</li>\n",
    "</ul>"
   ]
  },
  {
   "cell_type": "code",
   "execution_count": 11,
   "metadata": {},
   "outputs": [
    {
     "name": "stdout",
     "output_type": "stream",
     "text": [
      "name               0\n",
      "platform           0\n",
      "year_of_release    0\n",
      "genre              0\n",
      "na_sales           0\n",
      "eu_sales           0\n",
      "jp_sales           0\n",
      "other_sales        0\n",
      "critic_score       0\n",
      "user_score         0\n",
      "rating             0\n",
      "dtype: int64\n"
     ]
    }
   ],
   "source": [
    "# Eliminar filas con valores faltantes en 'Name', 'Platform' y 'Genre'\n",
    "games = games.dropna(subset=['name', 'platform', 'genre'])\n",
    "\n",
    "# Rellenar los valores faltantes en 'Year_of_Release' con la mediana\n",
    "games['year_of_release'] = games['year_of_release'].fillna(games['year_of_release'].median())\n",
    "\n",
    "# Rellenar los valores faltantes en 'User_Score' con la mediana\n",
    "games['user_score'] = games['user_score'].fillna(games['user_score'].median())\n",
    "\n",
    "# Rellenar los valores faltantes en 'Critic_Score' con la media\n",
    "games['critic_score'] = games['critic_score'].fillna(games['critic_score'].mean())\n",
    "\n",
    "# Rellenar los valores faltantes en 'Rating' con la moda\n",
    "games['rating'] = games['rating'].fillna(games['rating'].mode()[0])\n",
    "\n",
    "# Verifica si aún quedan valores faltantes\n",
    "print(games.isnull().sum())\n"
   ]
  },
  {
   "cell_type": "markdown",
   "metadata": {},
   "source": [
    "<div class=\"alert alert-block alert-success\">\n",
    "<b>Comentario del revisor</b> <a class=\"tocSkip\"></a>\n",
    "\n",
    "Excelente trabajo completando los valores nulos con la mediana. Como sabes, cuando trabajamos con distribuciones sesgadas se recomienda completar los valores nulos con la mediana para no sesgar nuestrso resultados\n",
    "</div>"
   ]
  },
  {
   "cell_type": "markdown",
   "metadata": {},
   "source": [
    "<p>Se realizan los siguientes cambios:</p>\n",
    "<ol>\n",
    "<li><strong>Eliminar filas con valores faltantes:</strong> Esto es &uacute;til si la cantidad de filas afectadas es peque&ntilde;a y no afecta.</li>\n",
    "<li><strong>Rellenar valores faltantes con un valor espec&iacute;fico:</strong>rellenar los valores faltantes con la media.</li>\n",
    "<li><strong>Rellenar valores faltantes con la moda (para datos categ&oacute;ricos):</strong>cambios realizados en la columna<code>Rating</code>.</li>\n",
    "</ol>"
   ]
  },
  {
   "cell_type": "code",
   "execution_count": 12,
   "metadata": {},
   "outputs": [
    {
     "name": "stdout",
     "output_type": "stream",
     "text": [
      "name                object\n",
      "platform            object\n",
      "year_of_release      int64\n",
      "genre               object\n",
      "na_sales           float64\n",
      "eu_sales           float64\n",
      "jp_sales           float64\n",
      "other_sales        float64\n",
      "critic_score       float64\n",
      "user_score         float64\n",
      "rating              object\n",
      "dtype: object\n"
     ]
    },
    {
     "data": {
      "text/html": [
       "<div>\n",
       "<style scoped>\n",
       "    .dataframe tbody tr th:only-of-type {\n",
       "        vertical-align: middle;\n",
       "    }\n",
       "\n",
       "    .dataframe tbody tr th {\n",
       "        vertical-align: top;\n",
       "    }\n",
       "\n",
       "    .dataframe thead th {\n",
       "        text-align: right;\n",
       "    }\n",
       "</style>\n",
       "<table border=\"1\" class=\"dataframe\">\n",
       "  <thead>\n",
       "    <tr style=\"text-align: right;\">\n",
       "      <th></th>\n",
       "      <th>name</th>\n",
       "      <th>platform</th>\n",
       "      <th>year_of_release</th>\n",
       "      <th>genre</th>\n",
       "      <th>na_sales</th>\n",
       "      <th>eu_sales</th>\n",
       "      <th>jp_sales</th>\n",
       "      <th>other_sales</th>\n",
       "      <th>critic_score</th>\n",
       "      <th>user_score</th>\n",
       "      <th>rating</th>\n",
       "    </tr>\n",
       "  </thead>\n",
       "  <tbody>\n",
       "    <tr>\n",
       "      <th>0</th>\n",
       "      <td>Wii Sports</td>\n",
       "      <td>Wii</td>\n",
       "      <td>2006</td>\n",
       "      <td>Sports</td>\n",
       "      <td>41.36</td>\n",
       "      <td>28.96</td>\n",
       "      <td>3.77</td>\n",
       "      <td>8.45</td>\n",
       "      <td>76.000000</td>\n",
       "      <td>8.0</td>\n",
       "      <td>E</td>\n",
       "    </tr>\n",
       "    <tr>\n",
       "      <th>1</th>\n",
       "      <td>Super Mario Bros.</td>\n",
       "      <td>NES</td>\n",
       "      <td>1985</td>\n",
       "      <td>Platform</td>\n",
       "      <td>29.08</td>\n",
       "      <td>3.58</td>\n",
       "      <td>6.81</td>\n",
       "      <td>0.77</td>\n",
       "      <td>68.967679</td>\n",
       "      <td>7.5</td>\n",
       "      <td>E</td>\n",
       "    </tr>\n",
       "    <tr>\n",
       "      <th>2</th>\n",
       "      <td>Mario Kart Wii</td>\n",
       "      <td>Wii</td>\n",
       "      <td>2008</td>\n",
       "      <td>Racing</td>\n",
       "      <td>15.68</td>\n",
       "      <td>12.76</td>\n",
       "      <td>3.79</td>\n",
       "      <td>3.29</td>\n",
       "      <td>82.000000</td>\n",
       "      <td>8.3</td>\n",
       "      <td>E</td>\n",
       "    </tr>\n",
       "    <tr>\n",
       "      <th>3</th>\n",
       "      <td>Wii Sports Resort</td>\n",
       "      <td>Wii</td>\n",
       "      <td>2009</td>\n",
       "      <td>Sports</td>\n",
       "      <td>15.61</td>\n",
       "      <td>10.93</td>\n",
       "      <td>3.28</td>\n",
       "      <td>2.95</td>\n",
       "      <td>80.000000</td>\n",
       "      <td>8.0</td>\n",
       "      <td>E</td>\n",
       "    </tr>\n",
       "    <tr>\n",
       "      <th>4</th>\n",
       "      <td>Pokemon Red/Pokemon Blue</td>\n",
       "      <td>GB</td>\n",
       "      <td>1996</td>\n",
       "      <td>Role-Playing</td>\n",
       "      <td>11.27</td>\n",
       "      <td>8.89</td>\n",
       "      <td>10.22</td>\n",
       "      <td>1.00</td>\n",
       "      <td>68.967679</td>\n",
       "      <td>7.5</td>\n",
       "      <td>E</td>\n",
       "    </tr>\n",
       "  </tbody>\n",
       "</table>\n",
       "</div>"
      ],
      "text/plain": [
       "                       name platform  year_of_release         genre  na_sales  \\\n",
       "0                Wii Sports      Wii             2006        Sports     41.36   \n",
       "1         Super Mario Bros.      NES             1985      Platform     29.08   \n",
       "2            Mario Kart Wii      Wii             2008        Racing     15.68   \n",
       "3         Wii Sports Resort      Wii             2009        Sports     15.61   \n",
       "4  Pokemon Red/Pokemon Blue       GB             1996  Role-Playing     11.27   \n",
       "\n",
       "   eu_sales  jp_sales  other_sales  critic_score  user_score rating  \n",
       "0     28.96      3.77         8.45     76.000000         8.0      E  \n",
       "1      3.58      6.81         0.77     68.967679         7.5      E  \n",
       "2     12.76      3.79         3.29     82.000000         8.3      E  \n",
       "3     10.93      3.28         2.95     80.000000         8.0      E  \n",
       "4      8.89     10.22         1.00     68.967679         7.5      E  "
      ]
     },
     "execution_count": 12,
     "metadata": {},
     "output_type": "execute_result"
    }
   ],
   "source": [
    "# Convertir year_of_release a entero\n",
    "games['year_of_release'] = games['year_of_release'].fillna(0).astype(int)\n",
    "\n",
    "# Convertir user_score a float, reemplazando los valores no numéricos por NaN\n",
    "games['user_score'] = pd.to_numeric(games['user_score'], errors='coerce')\n",
    "\n",
    "# Verificar los cambios\n",
    "print(games.dtypes)\n",
    "games.head()\n",
    "\n"
   ]
  },
  {
   "cell_type": "code",
   "execution_count": 13,
   "metadata": {},
   "outputs": [
    {
     "name": "stdout",
     "output_type": "stream",
     "text": [
      "name               0\n",
      "platform           0\n",
      "year_of_release    0\n",
      "genre              0\n",
      "na_sales           0\n",
      "eu_sales           0\n",
      "jp_sales           0\n",
      "other_sales        0\n",
      "critic_score       0\n",
      "user_score         0\n",
      "rating             0\n",
      "dtype: int64\n"
     ]
    }
   ],
   "source": [
    "# Identificar valores faltantes en cada columna\n",
    "missing_values = games.isnull().sum()\n",
    "\n",
    "# Mostrar los valores faltantes\n",
    "print(missing_values)\n",
    "\n"
   ]
  },
  {
   "cell_type": "markdown",
   "metadata": {},
   "source": [
    "Parece que no hay valores faltantes en el DataFrame después de los pasos anteriores, lo cual es un buen indicio de que los datos están limpios y listos para su análisis."
   ]
  },
  {
   "cell_type": "code",
   "execution_count": 14,
   "metadata": {},
   "outputs": [
    {
     "data": {
      "text/html": [
       "<div>\n",
       "<style scoped>\n",
       "    .dataframe tbody tr th:only-of-type {\n",
       "        vertical-align: middle;\n",
       "    }\n",
       "\n",
       "    .dataframe tbody tr th {\n",
       "        vertical-align: top;\n",
       "    }\n",
       "\n",
       "    .dataframe thead th {\n",
       "        text-align: right;\n",
       "    }\n",
       "</style>\n",
       "<table border=\"1\" class=\"dataframe\">\n",
       "  <thead>\n",
       "    <tr style=\"text-align: right;\">\n",
       "      <th></th>\n",
       "      <th>year_of_release</th>\n",
       "      <th>na_sales</th>\n",
       "      <th>eu_sales</th>\n",
       "      <th>jp_sales</th>\n",
       "      <th>other_sales</th>\n",
       "      <th>critic_score</th>\n",
       "      <th>user_score</th>\n",
       "    </tr>\n",
       "  </thead>\n",
       "  <tbody>\n",
       "    <tr>\n",
       "      <th>count</th>\n",
       "      <td>16713.000000</td>\n",
       "      <td>16713.000000</td>\n",
       "      <td>16713.000000</td>\n",
       "      <td>16713.000000</td>\n",
       "      <td>16713.000000</td>\n",
       "      <td>16713.000000</td>\n",
       "      <td>16713.000000</td>\n",
       "    </tr>\n",
       "    <tr>\n",
       "      <th>mean</th>\n",
       "      <td>2006.494525</td>\n",
       "      <td>0.263302</td>\n",
       "      <td>0.145045</td>\n",
       "      <td>0.077625</td>\n",
       "      <td>0.047343</td>\n",
       "      <td>68.967679</td>\n",
       "      <td>7.329719</td>\n",
       "    </tr>\n",
       "    <tr>\n",
       "      <th>std</th>\n",
       "      <td>5.828405</td>\n",
       "      <td>0.813565</td>\n",
       "      <td>0.503359</td>\n",
       "      <td>0.308871</td>\n",
       "      <td>0.186742</td>\n",
       "      <td>9.725162</td>\n",
       "      <td>1.027910</td>\n",
       "    </tr>\n",
       "    <tr>\n",
       "      <th>min</th>\n",
       "      <td>1980.000000</td>\n",
       "      <td>0.000000</td>\n",
       "      <td>0.000000</td>\n",
       "      <td>0.000000</td>\n",
       "      <td>0.000000</td>\n",
       "      <td>13.000000</td>\n",
       "      <td>0.000000</td>\n",
       "    </tr>\n",
       "    <tr>\n",
       "      <th>25%</th>\n",
       "      <td>2003.000000</td>\n",
       "      <td>0.000000</td>\n",
       "      <td>0.000000</td>\n",
       "      <td>0.000000</td>\n",
       "      <td>0.000000</td>\n",
       "      <td>68.967679</td>\n",
       "      <td>7.500000</td>\n",
       "    </tr>\n",
       "    <tr>\n",
       "      <th>50%</th>\n",
       "      <td>2007.000000</td>\n",
       "      <td>0.080000</td>\n",
       "      <td>0.020000</td>\n",
       "      <td>0.000000</td>\n",
       "      <td>0.010000</td>\n",
       "      <td>68.967679</td>\n",
       "      <td>7.500000</td>\n",
       "    </tr>\n",
       "    <tr>\n",
       "      <th>75%</th>\n",
       "      <td>2010.000000</td>\n",
       "      <td>0.240000</td>\n",
       "      <td>0.110000</td>\n",
       "      <td>0.040000</td>\n",
       "      <td>0.030000</td>\n",
       "      <td>70.000000</td>\n",
       "      <td>7.500000</td>\n",
       "    </tr>\n",
       "    <tr>\n",
       "      <th>max</th>\n",
       "      <td>2016.000000</td>\n",
       "      <td>41.360000</td>\n",
       "      <td>28.960000</td>\n",
       "      <td>10.220000</td>\n",
       "      <td>10.570000</td>\n",
       "      <td>98.000000</td>\n",
       "      <td>9.700000</td>\n",
       "    </tr>\n",
       "  </tbody>\n",
       "</table>\n",
       "</div>"
      ],
      "text/plain": [
       "       year_of_release      na_sales      eu_sales      jp_sales  \\\n",
       "count     16713.000000  16713.000000  16713.000000  16713.000000   \n",
       "mean       2006.494525      0.263302      0.145045      0.077625   \n",
       "std           5.828405      0.813565      0.503359      0.308871   \n",
       "min        1980.000000      0.000000      0.000000      0.000000   \n",
       "25%        2003.000000      0.000000      0.000000      0.000000   \n",
       "50%        2007.000000      0.080000      0.020000      0.000000   \n",
       "75%        2010.000000      0.240000      0.110000      0.040000   \n",
       "max        2016.000000     41.360000     28.960000     10.220000   \n",
       "\n",
       "        other_sales  critic_score    user_score  \n",
       "count  16713.000000  16713.000000  16713.000000  \n",
       "mean       0.047343     68.967679      7.329719  \n",
       "std        0.186742      9.725162      1.027910  \n",
       "min        0.000000     13.000000      0.000000  \n",
       "25%        0.000000     68.967679      7.500000  \n",
       "50%        0.010000     68.967679      7.500000  \n",
       "75%        0.030000     70.000000      7.500000  \n",
       "max       10.570000     98.000000      9.700000  "
      ]
     },
     "execution_count": 14,
     "metadata": {},
     "output_type": "execute_result"
    }
   ],
   "source": [
    "# Genera estadisticas de las columnas\n",
    "summary_stats = games.describe()\n",
    "\n",
    "# Muestras las estadisticas\n",
    "summary_stats\n"
   ]
  },
  {
   "cell_type": "markdown",
   "metadata": {},
   "source": [
    "## Analisis de datos\n",
    "\n",
    "<li>Mira cu&aacute;ntos juegos fueron lanzados en diferentes a&ntilde;os. &iquest;Son significativos los datos de cada per&iacute;odo?</li>\n",
    "<li>Observa c&oacute;mo var&iacute;an las ventas de una plataforma a otra. Elige las plataformas con las mayores ventas totales y construye una distribuci&oacute;n basada en los datos de cada a&ntilde;o. Busca las plataformas que sol&iacute;an ser populares pero que ahora no tienen ventas. &iquest;Cu&aacute;nto tardan generalmente las nuevas plataformas en aparecer y las antiguas en desaparecer?</li>\n",
    "<li>Determina para qu&eacute; per&iacute;odo debes tomar datos.Para hacerlo mira tus respuestas a las preguntas anteriores. Los datos deber&iacute;an permitirte construir un modelo para 2017.</li>\n",
    "<li>Trabaja solo con los datos que consideras relevantes. Ignora los datos de a&ntilde;os anteriores.</li>\n",
    "<li>&iquest;Qu&eacute; plataformas son l&iacute;deres en ventas? &iquest;Cu&aacute;les crecen y cu&aacute;les se reducen? Elige varias plataformas potencialmente rentables.</li>\n",
    "<li>Crea un diagrama de caja para las ventas globales de todos los juegos, desglosados por plataforma. &iquest;Son significativas las diferencias en las ventas? &iquest;Qu&eacute; sucede con las ventas promedio en varias plataformas? Describe tus hallazgos.</li>\n",
    "<li>Mira c&oacute;mo las rese&ntilde;as de usuarios y profesionales afectan las ventas de una plataforma popular (tu elecci&oacute;n). Crea un gr&aacute;fico de dispersi&oacute;n y calcula la correlaci&oacute;n entre las rese&ntilde;as y las ventas. Saca conclusiones.</li>\n",
    "<li>Teniendo en cuenta tus conclusiones compara las ventas de los mismos juegos en otras plataformas.</li>\n",
    "<li>Echa un vistazo a la distribuci&oacute;n general de los juegos por g&eacute;nero. &iquest;Qu&eacute; se puede decir de los g&eacute;neros m&aacute;s rentables? &iquest;Puedes generalizar acerca de los g&eacute;neros con ventas altas y bajas?</li>\n",
    "</ul>\n",
    "</li>\n",
    "</ul>"
   ]
  },
  {
   "cell_type": "code",
   "execution_count": 15,
   "metadata": {},
   "outputs": [
    {
     "data": {
      "image/png": "[encoded data removed]",
      "text/plain": [
       "<Figure size 1200x600 with 1 Axes>"
      ]
     },
     "metadata": {},
     "output_type": "display_data"
    }
   ],
   "source": [
    "# Contar el número de juegos lanzados por año\n",
    "games_per_year = games['year_of_release'].value_counts().sort_index()\n",
    "\n",
    "# Crear un gráfico de barras para mostrar el número de juegos lanzados cada año\n",
    "plt.figure(figsize=(12, 6))\n",
    "games_per_year.plot(kind='bar', color='skyblue', edgecolor='black')\n",
    "plt.title('Número de Juegos Lanzados por Año')\n",
    "plt.xlabel('Año de Lanzamiento')\n",
    "plt.ylabel('Número de Juegos')\n",
    "plt.grid(axis='y', linestyle='--', alpha=0.7)\n",
    "plt.xticks(rotation=45)\n",
    "plt.show()\n"
   ]
  },
  {
   "cell_type": "markdown",
   "metadata": {},
   "source": [
    "El mayor indice de lanzamientos los encontramos entre los años 2007,2008 y 2009. con un promedio de 1400 lanzamientos"
   ]
  },
  {
   "cell_type": "code",
   "execution_count": 16,
   "metadata": {},
   "outputs": [
    {
     "data": {
      "text/plain": [
       "<Figure size 1200x800 with 0 Axes>"
      ]
     },
     "metadata": {},
     "output_type": "display_data"
    },
    {
     "data": {
      "image/png": "[encoded data removed]",
      "text/plain": [
       "<Figure size 1400x800 with 1 Axes>"
      ]
     },
     "metadata": {},
     "output_type": "display_data"
    }
   ],
   "source": [
    "# Sumar las ventas globales por plataforma\n",
    "platform_sales = games.groupby('platform')['na_sales', 'eu_sales', 'jp_sales', 'other_sales'].sum().sum(axis=1)\n",
    "\n",
    "# Seleccionar las plataformas con las mayores ventas totales\n",
    "top_platforms = platform_sales.sort_values(ascending=False).head(5).index\n",
    "\n",
    "# Filtrar el DataFrame original para solo incluir los datos de estas plataformas\n",
    "top_platforms_data = games[games['platform'].isin(top_platforms)]\n",
    "\n",
    "# Agrupar los datos por plataforma y año de lanzamiento, y sumar las ventas globales\n",
    "platform_sales_per_year = top_platforms_data.groupby(['year_of_release', 'platform'])['na_sales', 'eu_sales', 'jp_sales', 'other_sales'].sum().sum(axis=1).unstack()\n",
    "\n",
    "# Crear la visualización\n",
    "plt.figure(figsize=(12, 8))\n",
    "platform_sales_per_year.plot(kind='bar', stacked=True, figsize=(14, 8))\n",
    "plt.title('Ventas por Año para las Principales Plataformas')\n",
    "plt.xlabel('Año de Lanzamiento')\n",
    "plt.ylabel('Ventas Totales (en millones)')\n",
    "plt.legend(title='Plataforma')\n",
    "plt.grid(True)\n",
    "plt.show()\n",
    "\n"
   ]
  },
  {
   "cell_type": "markdown",
   "metadata": {},
   "source": [
    "<div class=\"alert alert-block alert-success\">\n",
    "<b>Comentario del revisor:</b> <a class=\"tocSkip\"></a>\n",
    "    \n",
    "Hola! Muy buen trabajo en la sección, ajustaste los nombres de las columnas a minúsculas con el uso de la función str.lower(), cambiaste el tipo de variable de dos de las variables de la base de datos, consideraste ajustar los valores ausentes de las variables identificadas de score y muy buen trabajo con la suma de todas las ventas. \n",
    "    \n",
    "   \n",
    "\n",
    "</div>"
   ]
  },
  {
   "cell_type": "markdown",
   "metadata": {},
   "source": [
    "<div class=\"alert alert-block alert-warning\">\n",
    "<b>Comentario del revisor</b> <a class=\"tocSkip\"></a>\n",
    "    \n",
    "Gran trabajo con el desarrollo de la gráfica. Solamente te recomendaría que intentes reducir el periodo dado que el perido actual puede resultar muy extenso. Recordemos que con base en la información la popularidad la alcanzan en los primeros años. Es por ello que con un periodo largo puede no ser posible analizar de forma clara las plataformas y videojuegos actualizados y podrías estar analizando los desactualizados. Es por ello y dado que buscamos responder qué vender en 2017 te recomendareia gráficar un periodo que no supere los 5 años.     \n",
    "\n",
    "</div>"
   ]
  },
  {
   "cell_type": "markdown",
   "metadata": {},
   "source": [
    "<div class=\"alert alert-block alert-info\">\n",
    "<b>Respuesta del estudiante.</b> <a class=\"tocSkip\"></a>\n",
    "\n",
    "[Gracias por el comentario. Tendre en cuenta la relevancia de los datos en cuanto a los periodos solicitados y mas destacables para mejorar la precision de las presentaciones]\n",
    "</div>\n"
   ]
  },
  {
   "cell_type": "markdown",
   "metadata": {},
   "source": [
    "<div class=\"alert alert-block alert-success\">\n",
    "<b>Comentario del revisor</b> <a class=\"tocSkip\"></a>\n",
    "\n",
    "Gran trabajo con los ajustes!\n",
    "</div>"
   ]
  },
  {
   "cell_type": "code",
   "execution_count": 17,
   "metadata": {
    "scrolled": true
   },
   "outputs": [
    {
     "name": "stdout",
     "output_type": "stream",
     "text": [
      "platform\n",
      "Wii     547.39\n",
      "DS      415.13\n",
      "X360    361.14\n",
      "PS3     330.95\n",
      "PS2     178.50\n",
      "Name: total_sales, dtype: float64\n"
     ]
    }
   ],
   "source": [
    "# Filtrar los datos para el periodo 2007-2009\n",
    "filtered_sales = games.loc[(games['year_of_release'] >= 2007) & (games['year_of_release'] <= 2009)]\n",
    "\n",
    "# Seleccionar solo las plataformas de interés\n",
    "platforms_of_interest = ['DS', 'PS2', 'PS3', 'Wii', 'X360']\n",
    "filtered_sales = filtered_sales[filtered_sales['platform'].isin(platforms_of_interest)]\n",
    "\n",
    "# Crear una nueva columna para las ventas globales\n",
    "filtered_sales['total_sales'] = (\n",
    "    filtered_sales['na_sales'] + \n",
    "    filtered_sales['eu_sales'] + \n",
    "    filtered_sales['jp_sales'] + \n",
    "    filtered_sales['other_sales']\n",
    ")\n",
    "\n",
    "# Agrupar por plataforma y calcular el total de ventas\n",
    "sales_per_platform = filtered_sales.groupby('platform')['total_sales'].sum().sort_values(ascending=False)\n",
    "\n",
    "# Mostrar el resultado\n",
    "print(sales_per_platform)\n",
    "\n"
   ]
  },
  {
   "cell_type": "markdown",
   "metadata": {},
   "source": [
    "Esta grafica de ventas complementa la informacion de los resultados mostrados anteriormente. \n",
    "Encontramos una tendencia entre los años 2007-2009 coincidiendo el indice mas alto  entre ventas y lanzamientos.\n",
    "las 5 plataformas mas populares muestran tenedencias parecidas de venta en esos mismos años encabezadas por wii, ds y x360\n",
    "Tambien podemos concluir que al menos para las plataformas mas populares tenemos un tiempo de vida de aproximadamente 10 años \n"
   ]
  },
  {
   "cell_type": "code",
   "execution_count": 27,
   "metadata": {},
   "outputs": [
    {
     "data": {
      "image/png": "[encoded data removed]",
      "text/plain": [
       "<Figure size 1200x800 with 1 Axes>"
      ]
     },
     "metadata": {},
     "output_type": "display_data"
    }
   ],
   "source": [
    "import pandas as pd\n",
    "\n",
    "# Cargar el DataFrame desde un archivo CSV\n",
    "games = pd.read_csv('/datasets/games.csv')\n",
    "\n",
    "# Ahora puedes ejecutar tu código\n",
    "if 'Year_of_Release' in games.columns:\n",
    "    # Filtrar los datos para el período 2013-2016\n",
    "    filtered_data = games[(games['Year_of_Release'] >= 2013) & (games['Year_of_Release'] <= 2016)]\n",
    "\n",
    "    # Hacer una copia del conjunto de datos filtrado\n",
    "    filtered_data_copy = filtered_data.copy()\n",
    "\n",
    "    # Crear una nueva columna para las ventas globales\n",
    "    filtered_data_copy['global_sales'] = (\n",
    "        filtered_data_copy['NA_sales'] + \n",
    "        filtered_data_copy['EU_sales'] + \n",
    "        filtered_data_copy['JP_sales'] + \n",
    "        filtered_data_copy['Other_sales']\n",
    "    )\n",
    "\n",
    "    # Crear el diagrama de caja\n",
    "    plt.figure(figsize=(12, 8))\n",
    "    sns.boxplot(x='Platform', y='global_sales', data=filtered_data_copy)\n",
    "    plt.title('Diagrama de Caja de Ventas Globales por Plataforma (2013-2016)')\n",
    "    plt.xlabel('Plataforma')\n",
    "    plt.ylabel('Ventas Globales (en millones)')\n",
    "    plt.xticks(rotation=45)  # Opcional: rota las etiquetas del eje x\n",
    "    plt.grid(True)  # añade una cuadrícula para mejor visualización\n",
    "    plt.show()\n",
    "\n",
    "else:\n",
    "    print(\"La columna 'Year_of_Release' no existe en el DataFrame.\")\n",
    "\n"
   ]
  },
  {
   "cell_type": "markdown",
   "metadata": {},
   "source": [
    "<div class=\"alert alert-block alert-danger\">\n",
    "<b>Comentario del revisor</b> <a class=\"tocSkip\"></a>\n",
    "    \n",
    "Solamente verifica que cuentas con la variable \"'Year_of_Release'\"  \n",
    "\n",
    "</div>"
   ]
  },
  {
   "cell_type": "markdown",
   "metadata": {},
   "source": [
    "\n",
    "<div class=\"alert alert-block alert-info\">\n",
    "<b>Consegui corregir el error en la variable \"Year_of_Release\" cargando el data set directamente y añadiendendo una funcion if else  para comprobar datos </b> <a class=\"tocSkip\"></a>\n",
    "</div>"
   ]
  },
  {
   "cell_type": "markdown",
   "metadata": {},
   "source": [
    "<div class=\"alert alert-block alert-success\">\n",
    "<b>Comentario del revisor</b> <a class=\"tocSkip\"></a>\n",
    "\n",
    "Gran trabajo con los ajustes!\n",
    "</div>"
   ]
  },
  {
   "cell_type": "code",
   "execution_count": 19,
   "metadata": {},
   "outputs": [
    {
     "data": {
      "image/png": "[encoded data removed]",
      "text/plain": [
       "<Figure size 1000x600 with 1 Axes>"
      ]
     },
     "metadata": {},
     "output_type": "display_data"
    },
    {
     "name": "stdout",
     "output_type": "stream",
     "text": [
      "Correlación entre las reseñas de críticos y las ventas globales: 0.3937358653072588\n",
      "Correlación entre las reseñas de usuarios y las ventas globales: 0.11445882978454185\n"
     ]
    }
   ],
   "source": [
    "import pandas as pd\n",
    "import matplotlib.pyplot as plt\n",
    "\n",
    "# Cargar el dataset\n",
    "games = pd.read_csv('/datasets/games.csv')\n",
    "\n",
    "# Filtrar los datos para la plataforma X360\n",
    "x360_data = games[games['Platform'] == 'X360'].copy()\n",
    "\n",
    "# Crear una nueva columna para las ventas globales\n",
    "x360_data['Global_sales'] = (\n",
    "    x360_data['NA_sales'] + \n",
    "    x360_data['EU_sales'] + \n",
    "    x360_data['JP_sales'] + \n",
    "    x360_data['Other_sales']\n",
    ")\n",
    "\n",
    "# Convertir las columnas de reseñas a numéricas, manejando posibles errores\n",
    "x360_data['User_Score'] = pd.to_numeric(x360_data['User_Score'], errors='coerce')\n",
    "x360_data['Critic_Score'] = pd.to_numeric(x360_data['Critic_Score'], errors='coerce')\n",
    "\n",
    "# Crear un gráfico de dispersión para analizar la relación entre reseñas y ventas globales\n",
    "plt.figure(figsize=(10, 6))\n",
    "plt.scatter(x360_data['Critic_Score'], x360_data['Global_sales'], color='blue', label='Crítica')\n",
    "plt.scatter(x360_data['User_Score'], x360_data['Global_sales'], color='red', label='Usuarios')\n",
    "plt.title('Reseñas vs Ventas Globales para X360')\n",
    "plt.xlabel('Puntuación de Reseñas')\n",
    "plt.ylabel('Ventas Globales (en millones)')\n",
    "plt.legend()\n",
    "plt.grid(True)\n",
    "plt.show()\n",
    "\n",
    "# Calcular la correlación entre las reseñas y las ventas globales\n",
    "critic_correlation = x360_data['Critic_Score'].corr(x360_data['Global_sales'])\n",
    "user_correlation = x360_data['User_Score'].corr(x360_data['Global_sales'])\n",
    "\n",
    "print(\"Correlación entre las reseñas de críticos y las ventas globales:\", critic_correlation)\n",
    "print(\"Correlación entre las reseñas de usuarios y las ventas globales:\", user_correlation)\n"
   ]
  },
  {
   "cell_type": "markdown",
   "metadata": {},
   "source": [
    "<div class=\"alert alert-block alert-success\">\n",
    "    <b>Comentario del revisor</b> <a class=\"tocSkip\"></a>\n",
    "    \n",
    "Muy buen trabajo con el análisis de la relación estre las scores y las ventas. \n",
    "</div>"
   ]
  },
  {
   "cell_type": "markdown",
   "metadata": {},
   "source": [
    "<ul>\n",
    "<li>Se muestra una correlaci&oacute;n positiva moderada entre las rese&ntilde;as de cr&iacute;ticos y las ventas globales.<br/><br/></li>\n",
    "<li>Las rese&ntilde;as de usuarios y las ventas globales es d&eacute;bil, indicando que las opiniones de los usuarios tienen poca influencia directa en las ventas</li>\n",
    "</ul>"
   ]
  },
  {
   "cell_type": "code",
   "execution_count": 20,
   "metadata": {},
   "outputs": [
    {
     "name": "stdout",
     "output_type": "stream",
     "text": [
      "Distribución general de los juegos por género:\n",
      "\n",
      "              Total_sales  Number_of_Games  Average_sales_per_game\n",
      "Action            1744.17             3369                0.517711\n",
      "Adventure          237.59             1303                0.182341\n",
      "Fighting           447.53              849                0.527126\n",
      "Misc               802.51             1750                0.458577\n",
      "Platform           827.77              888                0.932173\n",
      "Puzzle             242.57              580                0.418224\n",
      "Racing             728.67             1249                0.583403\n",
      "Role-Playing       934.56             1498                0.623872\n",
      "Shooter           1052.45             1323                0.795503\n",
      "Simulation         389.97              873                0.446701\n",
      "Sports            1331.27             2348                0.566980\n",
      "Strategy           174.23              683                0.255095\n",
      "\n",
      "Géneros con ventas altas:\n",
      "              Total_sales  Number_of_Games  Average_sales_per_game\n",
      "Fighting           447.53              849                0.527126\n",
      "Platform           827.77              888                0.932173\n",
      "Racing             728.67             1249                0.583403\n",
      "Role-Playing       934.56             1498                0.623872\n",
      "Shooter           1052.45             1323                0.795503\n",
      "Sports            1331.27             2348                0.566980\n",
      "\n",
      "Géneros con ventas bajas:\n",
      "            Total_sales  Number_of_Games  Average_sales_per_game\n",
      "Action          1744.17             3369                0.517711\n",
      "Adventure        237.59             1303                0.182341\n",
      "Misc             802.51             1750                0.458577\n",
      "Puzzle           242.57              580                0.418224\n",
      "Simulation       389.97              873                0.446701\n",
      "Strategy         174.23              683                0.255095\n"
     ]
    }
   ],
   "source": [
    "# Función para analizar las ventas por género\n",
    "def analyze_genre_sales(df):\n",
    "    # Calcula las ventas globales sumando las ventas regionales\n",
    "    df['Global_sales'] = df['NA_sales'] + df['EU_sales'] + df['JP_sales'] + df['Other_sales']\n",
    "    \n",
    "    # Agrupa por género y suma las ventas globales\n",
    "    genre_sales = df.groupby('Genre')['Global_sales'].sum().sort_values(ascending=False)\n",
    "    \n",
    "    # Cuenta la cantidad de juegos por género\n",
    "    genre_counts = df['Genre'].value_counts()\n",
    "    \n",
    "    # Calcula el promedio de ventas globales por género\n",
    "    avg_genre_sales = genre_sales / genre_counts\n",
    "    \n",
    "    # Crea un DataFrame con los resultados\n",
    "    genre_summary = pd.DataFrame({\n",
    "        'Total_sales': genre_sales,\n",
    "        'Number_of_Games': genre_counts,\n",
    "        'Average_sales_per_game': avg_genre_sales\n",
    "    })\n",
    "    \n",
    "    # Imprime los resultados\n",
    "    print(\"Distribución general de los juegos por género:\\n\")\n",
    "    print(genre_summary)\n",
    "    \n",
    "    # Identifica los géneros con ventas altas y bajas\n",
    "    high_sales_genres = genre_summary[genre_summary['Average_sales_per_game'] > genre_summary['Average_sales_per_game'].mean()]\n",
    "    low_sales_genres = genre_summary[genre_summary['Average_sales_per_game'] <= genre_summary['Average_sales_per_game'].mean()]\n",
    "    \n",
    "    print(\"\\nGéneros con ventas altas:\")\n",
    "    print(high_sales_genres)\n",
    "    \n",
    "    print(\"\\nGéneros con ventas bajas:\")\n",
    "    print(low_sales_genres)\n",
    "    \n",
    "    return genre_summary, high_sales_genres, low_sales_genres\n",
    "\n",
    "# Ejecutar la función con el DataFrame correcto\n",
    "genre_summary, high_sales_genres, low_sales_genres = analyze_genre_sales(games)\n"
   ]
  },
  {
   "cell_type": "code",
   "execution_count": 21,
   "metadata": {},
   "outputs": [
    {
     "name": "stdout",
     "output_type": "stream",
     "text": [
      "                              Name  Global_sales_X360 Platform  \\\n",
      "0           007: Quantum of Solace               1.48       DS   \n",
      "1           007: Quantum of Solace               1.48       PC   \n",
      "2           007: Quantum of Solace               1.48      PS2   \n",
      "3           007: Quantum of Solace               1.48      PS3   \n",
      "4           007: Quantum of Solace               1.48      Wii   \n",
      "...                            ...                ...      ...   \n",
      "2563     pro evolution soccer 2011               0.60      PS2   \n",
      "2564     pro evolution soccer 2011               0.60      PS3   \n",
      "2565     pro evolution soccer 2011               0.60      PSP   \n",
      "2566     pro evolution soccer 2011               0.60      Wii   \n",
      "2567  uDraw Studio: Instant Artist               0.02      Wii   \n",
      "\n",
      "      Global_sales_Other_Platform  \n",
      "0                            0.13  \n",
      "1                            0.02  \n",
      "2                            0.43  \n",
      "3                            1.15  \n",
      "4                            0.65  \n",
      "...                           ...  \n",
      "2563                         0.41  \n",
      "2564                         2.41  \n",
      "2565                         0.80  \n",
      "2566                         0.22  \n",
      "2567                         0.17  \n",
      "\n",
      "[2568 rows x 4 columns]\n"
     ]
    }
   ],
   "source": [
    "# Crear una columna de ventas globales sumando las ventas regionales\n",
    "games['Global_sales'] = games['NA_sales'] + games['EU_sales'] + games['JP_sales'] + games['Other_sales']\n",
    "\n",
    "# Filtrar los juegos de la plataforma X360\n",
    "x360_games = games[games['Platform'] == 'X360']\n",
    "\n",
    "# Agrupar por nombre del juego y sumar las ventas globales\n",
    "x360_sales = x360_games.groupby('Name')['Global_sales'].sum().reset_index()\n",
    "\n",
    "# Filtrar las ventas de los mismos juegos en otras plataformas\n",
    "other_platforms_sales = games[games['Name'].isin(x360_sales['Name']) & (games['Platform'] != 'X360')]\n",
    "\n",
    "# Agrupar por nombre del juego y plataforma, sumando las ventas globales\n",
    "other_platforms_sales_grouped = other_platforms_sales.groupby(['Name', 'Platform'])['Global_sales'].sum().reset_index()\n",
    "\n",
    "# Comparar las ventas entre X360 y otras plataformas\n",
    "comparison = pd.merge(x360_sales, other_platforms_sales_grouped, on='Name', suffixes=('_X360', '_Other_Platform'))\n",
    "\n",
    "# Mostrar los resultados de la comparación\n",
    "print(comparison)\n",
    "\n",
    "\n"
   ]
  },
  {
   "cell_type": "markdown",
   "metadata": {},
   "source": [
    "podemos concluir que por lo general en general los titulos tienen ventas equilibradas entre las plataformas, mientras que otros títulos, como \"Pro Evolution Soccer 2011\", tienen significativamente mejores ventas en PS3 que en X360. \n",
    "Dicho de otra manera, la popularidad de un juego varía según la consola"
   ]
  },
  {
   "cell_type": "markdown",
   "metadata": {},
   "source": [
    "<h2>Crea un perfil de usuario para cada regi&oacute;n</h2>\n",
    "<p>Para cada regi&oacute;n (NA, UE, JP) determina:</p>\n",
    "<ul>\n",
    "<li>Las cinco plataformas principales. Describe las variaciones en sus cuotas de mercado de una regi&oacute;n a otra.</li>\n",
    "<li>Los cinco g&eacute;neros principales. Explica la diferencia.</li>\n",
    "<li>Si las clasificaciones de ESRB afectan a las ventas en regiones individuales.</li>\n",
    "</ul>\n"
   ]
  },
  {
   "cell_type": "code",
   "execution_count": 22,
   "metadata": {},
   "outputs": [
    {
     "name": "stdout",
     "output_type": "stream",
     "text": [
      "                       Name Platform  Year_of_Release         Genre  NA_sales  \\\n",
      "0                Wii Sports      Wii           2006.0        Sports     41.36   \n",
      "1         Super Mario Bros.      NES           1985.0      Platform     29.08   \n",
      "2            Mario Kart Wii      Wii           2008.0        Racing     15.68   \n",
      "3         Wii Sports Resort      Wii           2009.0        Sports     15.61   \n",
      "4  Pokemon Red/Pokemon Blue       GB           1996.0  Role-Playing     11.27   \n",
      "\n",
      "   EU_sales  JP_sales  Other_sales  Critic_Score User_Score Rating  \n",
      "0     28.96      3.77         8.45          76.0          8      E  \n",
      "1      3.58      6.81         0.77           NaN        NaN    NaN  \n",
      "2     12.76      3.79         3.29          82.0        8.3      E  \n",
      "3     10.93      3.28         2.95          80.0          8      E  \n",
      "4      8.89     10.22         1.00           NaN        NaN    NaN  \n"
     ]
    }
   ],
   "source": [
    "# Cargar el conjunto de datos\n",
    "games = pd.read_csv('/datasets/games.csv')\n",
    "\n",
    "# Verificar que los datos se hayan cargado correctamente\n",
    "print(games.head())\n",
    "\n"
   ]
  },
  {
   "cell_type": "code",
   "execution_count": 23,
   "metadata": {},
   "outputs": [
    {
     "data": {
      "image/png": "[encoded data removed]",
      "text/plain": [
       "<Figure size 1500x500 with 3 Axes>"
      ]
     },
     "metadata": {},
     "output_type": "display_data"
    }
   ],
   "source": [
    "# Calcular las ventas totales por plataforma para cada región\n",
    "platform_sales_na = games.groupby('Platform')['NA_sales'].sum().sort_values(ascending=False).head(5)\n",
    "platform_sales_eu = games.groupby('Platform')['EU_sales'].sum().sort_values(ascending=False).head(5)\n",
    "platform_sales_jp = games.groupby('Platform')['JP_sales'].sum().sort_values(ascending=False).head(5)\n",
    "\n",
    "# Visualizar las cuotas de mercado en un gráfico de barras\n",
    "import matplotlib.pyplot as plt\n",
    "\n",
    "plt.figure(figsize=(15,5))\n",
    "\n",
    "plt.subplot(1, 3, 1)\n",
    "platform_sales_na.plot(kind='bar', title='Ventas NA - Top 5 Plataformas')\n",
    "plt.ylabel('Ventas en millones')\n",
    "\n",
    "plt.subplot(1, 3, 2)\n",
    "platform_sales_eu.plot(kind='bar', title='Ventas UE - Top 5 Plataformas')\n",
    "\n",
    "plt.subplot(1, 3, 3)\n",
    "platform_sales_jp.plot(kind='bar', title='Ventas JP - Top 5 Plataformas')\n",
    "\n",
    "plt.tight_layout()\n",
    "plt.show()\n",
    "\n"
   ]
  },
  {
   "cell_type": "code",
   "execution_count": 24,
   "metadata": {},
   "outputs": [
    {
     "data": {
      "image/png": "[encoded data removed]",
      "text/plain": [
       "<Figure size 1500x500 with 3 Axes>"
      ]
     },
     "metadata": {},
     "output_type": "display_data"
    }
   ],
   "source": [
    "# Calcular las ventas totales por género para cada región\n",
    "genre_sales_na = games.groupby('Genre')['NA_sales'].sum().sort_values(ascending=False).head(5)\n",
    "genre_sales_eu = games.groupby('Genre')['EU_sales'].sum().sort_values(ascending=False).head(5)\n",
    "genre_sales_jp = games.groupby('Genre')['JP_sales'].sum().sort_values(ascending=False).head(5)\n",
    "\n",
    "# Visualizar las cuotas de mercado en un gráfico de barras\n",
    "import matplotlib.pyplot as plt\n",
    "\n",
    "plt.figure(figsize=(15,5))\n",
    "\n",
    "plt.subplot(1, 3, 1)\n",
    "genre_sales_na.plot(kind='bar', title='Ventas NA - Top 5 Géneros')\n",
    "plt.ylabel('Ventas en millones')\n",
    "\n",
    "plt.subplot(1, 3, 2)\n",
    "genre_sales_eu.plot(kind='bar', title='Ventas UE - Top 5 Géneros')\n",
    "\n",
    "plt.subplot(1, 3, 3)\n",
    "genre_sales_jp.plot(kind='bar', title='Ventas JP - Top 5 Géneros')\n",
    "\n",
    "plt.tight_layout()\n",
    "plt.show()\n"
   ]
  },
  {
   "cell_type": "code",
   "execution_count": 25,
   "metadata": {},
   "outputs": [
    {
     "data": {
      "image/png": "[encoded data removed]",
      "text/plain": [
       "<Figure size 1500x500 with 3 Axes>"
      ]
     },
     "metadata": {},
     "output_type": "display_data"
    }
   ],
   "source": [
    "# Agrupar las ventas por clasificación ESRB y región\n",
    "esrb_sales_na = games.groupby('Rating')['NA_sales'].sum().sort_values(ascending=False)\n",
    "esrb_sales_eu = games.groupby('Rating')['EU_sales'].sum().sort_values(ascending=False)\n",
    "esrb_sales_jp = games.groupby('Rating')['JP_sales'].sum().sort_values(ascending=False)\n",
    "\n",
    "# Visualizar en gráficos de barras\n",
    "plt.figure(figsize=(15,5))\n",
    "\n",
    "plt.subplot(1, 3, 1)\n",
    "esrb_sales_na.plot(kind='bar', title='Ventas NA por Clasificación ESRB')\n",
    "plt.ylabel('Ventas en millones')\n",
    "\n",
    "plt.subplot(1, 3, 2)\n",
    "esrb_sales_eu.plot(kind='bar', title='Ventas UE por Clasificación ESRB')\n",
    "\n",
    "plt.subplot(1, 3, 3)\n",
    "esrb_sales_jp.plot(kind='bar', title='Ventas JP por Clasificación ESRB')\n",
    "\n",
    "plt.tight_layout()\n",
    "plt.show()\n"
   ]
  },
  {
   "cell_type": "markdown",
   "metadata": {},
   "source": [
    "<div class=\"alert alert-block alert-success\">\n",
    "<b>Comentario del revisor:</b> <a class=\"tocSkip\"></a>\n",
    "\n",
    "Excelente! Con este análisis por región ayuda a complementar el análisis general anterior y a hacer zoom a los resultados por cada una de las regiones.   \n",
    "\n",
    "</div>"
   ]
  },
  {
   "cell_type": "markdown",
   "metadata": {},
   "source": [
    "<h2><strong>Paso 5. Prueba las siguientes hip&oacute;tesis:</strong></h2>\n",
    "<ul>\n",
    "<li>Las calificaciones promedio de los usuarios para las plataformas Xbox One y PC son las mismas.</li>\n",
    "<li>Las calificaciones promedio de los usuarios para los g&eacute;neros de Acci&oacute;n y Deportes son diferentes.</li>\n",
    "<li>Establece tu mismo el valor de umbral <em>alfa</em>.</li>\n",
    "</ul>\n",
    "<p>Explica:</p>\n",
    "<p>C&oacute;mo formulaste las hip&oacute;tesis nula y alternativa.</p>\n",
    "<p>Qu&eacute; criterio utilizaste para probar las hip&oacute;tesis y por qu&eacute;.</p>"
   ]
  },
  {
   "cell_type": "code",
   "execution_count": 26,
   "metadata": {},
   "outputs": [
    {
     "name": "stdout",
     "output_type": "stream",
     "text": [
      "Hipótesis 1 (Xbox One vs PC):\n",
      "t-stat: -4.368333815003015, p-value: 1.3896435533548819e-05\n",
      "Rechazamos la hipótesis nula: Las calificaciones promedio son diferentes.\n",
      "\n",
      "Hipótesis 2 (Acción vs Deportes):\n",
      "t-stat: 1.6259419280500857, p-value: 0.10406951359049141\n",
      "No rechazamos la hipótesis nula: Las calificaciones promedio son iguales.\n"
     ]
    }
   ],
   "source": [
    "import pandas as pd\n",
    "from scipy import stats\n",
    "\n",
    "# Convertir la columna User_Score a numérica, forzando errores a NaN\n",
    "games['User_Score'] = pd.to_numeric(games['User_Score'], errors='coerce')\n",
    "\n",
    "# Filtrar las plataformas Xbox One y PC\n",
    "xbox_one_ratings = games[games['Platform'] == 'XOne']['User_Score'].dropna()\n",
    "pc_ratings = games[games['Platform'] == 'PC']['User_Score'].dropna()\n",
    "\n",
    "# Prueba t para la hipótesis 1 (Xbox One vs PC)\n",
    "t_stat_1, p_val_1 = stats.ttest_ind(xbox_one_ratings, pc_ratings)\n",
    "\n",
    "# Filtrar los géneros Acción y Deportes\n",
    "action_ratings = games[games['Genre'] == 'Action']['User_Score'].dropna()\n",
    "sports_ratings = games[games['Genre'] == 'Sports']['User_Score'].dropna()\n",
    "\n",
    "# Prueba t para la hipótesis 2 (Acción vs Deportes)\n",
    "t_stat_2, p_val_2 = stats.ttest_ind(action_ratings, sports_ratings)\n",
    "\n",
    "# Establecer alfa\n",
    "alpha = 0.05\n",
    "\n",
    "# Mostrar los resultados\n",
    "print(\"Hipótesis 1 (Xbox One vs PC):\")\n",
    "print(f\"t-stat: {t_stat_1}, p-value: {p_val_1}\")\n",
    "if p_val_1 < alpha:\n",
    "    print(\"Rechazamos la hipótesis nula: Las calificaciones promedio son diferentes.\")\n",
    "else:\n",
    "    print(\"No rechazamos la hipótesis nula: Las calificaciones promedio son iguales.\")\n",
    "\n",
    "print(\"\\nHipótesis 2 (Acción vs Deportes):\")\n",
    "print(f\"t-stat: {t_stat_2}, p-value: {p_val_2}\")\n",
    "if p_val_2 < alpha:\n",
    "    print(\"Rechazamos la hipótesis nula: Las calificaciones promedio son diferentes.\")\n",
    "else:\n",
    "    print(\"No rechazamos la hipótesis nula: Las calificaciones promedio son iguales.\")\n"
   ]
  },
  {
   "cell_type": "markdown",
   "metadata": {},
   "source": [
    " <div class=\"alert alert-block alert-danger\">\n",
    "<b>Comentario revisor</b> <a class=\"tocSkip\"></a>\n",
    "\n",
    "Para estas pruebas te recomiendo hacer una prueba de  Levene  para mostrar si las varianzas son iguales y agregarlo dentro de la función. Actualmente lo colocar como equal_var=True. Para esto, primero debes calcular las varianzas para cada uno de las plataformas y en un segundo tiempo debes de hacer uso de la siguiente función: \n",
    "    \n",
    "    levene(xbox_one_data['user_score'], pc_data['user_score'])\n",
    "    \n",
    "Adoptaremos un nivel de significancia de 0.05; si el valor p resultante es mayor a 0.05, no podemos rechazar la hipótesis nula, y si es menor a 0.05, rechazamos la hipótesis nula, indicando que las varianzas no son iguales. \n",
    "    \n",
    "Solamente recuerda que la prueba de levene no es sustituto a la prueba de st.ttest_ind, más bien es complemento para saber que colocar dentro del elemento \"equal_var\". En este caso como rechazamos la hipótesis de varianzas iguales debemos de colocar False. Es por eso que para terminar la prueba debes de realizar la prueba de st.ttest_ind considernado el resultado de la prueba realizada de levene    \n",
    "</div>"
   ]
  },
  {
   "cell_type": "code",
   "execution_count": 30,
   "metadata": {
    "scrolled": true
   },
   "outputs": [
    {
     "name": "stdout",
     "output_type": "stream",
     "text": [
      "Hipótesis 1 (Xbox One vs PC):\n",
      "Prueba de Levene - p-value: 0.2693951512047048\n",
      "t-stat: -4.368333815003015, p-value: 1.3896435533548819e-05\n",
      "Rechazamos la hipótesis nula: Las calificaciones promedio son diferentes.\n",
      "\n",
      "Hipótesis 2 (Acción vs Deportes):\n",
      "Prueba de Levene - p-value: 0.0001736640672727649\n",
      "t-stat: 1.57746791633354, p-value: 0.11483818791498286\n",
      "No rechazamos la hipótesis nula: Las calificaciones promedio son iguales.\n"
     ]
    }
   ],
   "source": [
    "import pandas as pd\n",
    "from scipy import stats\n",
    "\n",
    "# Convertir la columna User_Score a numérica, forzando errores a NaN\n",
    "games['User_Score'] = pd.to_numeric(games['User_Score'], errors='coerce')\n",
    "\n",
    "# Filtrar las plataformas Xbox One y PC\n",
    "xbox_one_ratings = games[games['Platform'] == 'XOne']['User_Score'].dropna()\n",
    "pc_ratings = games[games['Platform'] == 'PC']['User_Score'].dropna()\n",
    "\n",
    "# Prueba de Levene para verificar si las varianzas son iguales\n",
    "levene_stat_1, levene_p_val_1 = stats.levene(xbox_one_ratings, pc_ratings)\n",
    "\n",
    "# Definir equal_var en base al resultado de la prueba de Levene\n",
    "equal_var_1 = levene_p_val_1 > 0.05\n",
    "\n",
    "# Prueba t para la hipótesis 1 (Xbox One vs PC) con el valor de equal_var\n",
    "t_stat_1, p_val_1 = stats.ttest_ind(xbox_one_ratings, pc_ratings, equal_var=equal_var_1)\n",
    "\n",
    "# Filtrar los géneros Acción y Deportes\n",
    "action_ratings = games[games['Genre'] == 'Action']['User_Score'].dropna()\n",
    "sports_ratings = games[games['Genre'] == 'Sports']['User_Score'].dropna()\n",
    "\n",
    "# Prueba de Levene para verificar si las varianzas son iguales\n",
    "levene_stat_2, levene_p_val_2 = stats.levene(action_ratings, sports_ratings)\n",
    "\n",
    "# Definir equal_var en base al resultado de la prueba de Levene\n",
    "equal_var_2 = levene_p_val_2 > 0.05\n",
    "\n",
    "# Prueba t para la hipótesis 2 (Acción vs Deportes) con el valor de equal_var\n",
    "t_stat_2, p_val_2 = stats.ttest_ind(action_ratings, sports_ratings, equal_var=equal_var_2)\n",
    "\n",
    "# Establecer alfa\n",
    "alpha = 0.05\n",
    "\n",
    "# Mostrar los resultados\n",
    "print(\"Hipótesis 1 (Xbox One vs PC):\")\n",
    "print(f\"Prueba de Levene - p-value: {levene_p_val_1}\")\n",
    "print(f\"t-stat: {t_stat_1}, p-value: {p_val_1}\")\n",
    "if p_val_1 < alpha:\n",
    "    print(\"Rechazamos la hipótesis nula: Las calificaciones promedio son diferentes.\")\n",
    "else:\n",
    "    print(\"No rechazamos la hipótesis nula: Las calificaciones promedio son iguales.\")\n",
    "\n",
    "print(\"\\nHipótesis 2 (Acción vs Deportes):\")\n",
    "print(f\"Prueba de Levene - p-value: {levene_p_val_2}\")\n",
    "print(f\"t-stat: {t_stat_2}, p-value: {p_val_2}\")\n",
    "if p_val_2 < alpha:\n",
    "    print(\"Rechazamos la hipótesis nula: Las calificaciones promedio son diferentes.\")\n",
    "else:\n",
    "    print(\"No rechazamos la hipótesis nula: Las calificaciones promedio son iguales.\")\n"
   ]
  },
  {
   "cell_type": "markdown",
   "metadata": {},
   "source": [
    "<div class=\"alert alert-block alert-info\">\n",
    "<b>Respuesta del estudiante.</b> <a class=\"tocSkip\"></a>\n",
    "\n",
    "Realice algunas modificaciones para poder validar o rechazar la hipotesis correctamente.\n",
    "El nuevo código convierte las calificaciones de usuarios en int, filtra las calificaciones por plataformas y géneros, realiza pruebas para verificar la igualdad de varianzas y termina por comparar las medias de las calificaciones entre los grupos para determinar si hay diferencias significativas\n",
    "\n",
    "</div>\n"
   ]
  },
  {
   "cell_type": "markdown",
   "metadata": {},
   "source": [
    "<div class=\"alert alert-block alert-success\">\n",
    "<b>Comentario del revisor</b> <a class=\"tocSkip\"></a>\n",
    "\n",
    "Gran trabajo con los ajustes!\n",
    "</div>"
   ]
  },
  {
   "cell_type": "markdown",
   "metadata": {},
   "source": [
    "<h3>Hip&oacute;tesis 1 (Xbox One vs PC):</h3>\n",
    "<ul>\n",
    "<li><strong>t-stat: -4.37</strong>, <strong>p-value: 1.39e-05</strong></li>\n",
    "<li>Con un valor p muy peque&ntilde;o (1.39e-05), mucho menor que el nivel de significancia est&aacute;ndar de 0.05, <strong>rechazamos la hip&oacute;tesis nula</strong>. Esto significa que <em>las calificaciones promedio de los usuarios para Xbox One y PC son significativamente diferentes.</em></li>\n",
    "</ul>\n",
    "<h3>Hip&oacute;tesis 2 (Acci&oacute;n vs Deportes):</h3>\n",
    "<ul>\n",
    "<li><strong>t-stat: 1.63</strong>, <strong>p-value: 0.104</strong></li>\n",
    "<li>El valor p (0.104) es mayor que el nivel de significancia de 0.05, por lo que <strong>no rechazamos la hip&oacute;tesis nula</strong>. Esto implica que <em>las calificaciones promedio de los usuarios para los g&eacute;neros de Acci&oacute;n y Deportes no presentan una diferencia significativa.</em></li>\n",
    "</ul>\n",
    "<h3>Conclusi&oacute;n general:</h3>\n",
    "<ul>\n",
    "<li>Hay una diferencia significativa en las calificaciones promedio entre Xbox One y PC.</li>\n",
    "<li>Las calificaciones promedio de los g&eacute;neros de Acci&oacute;n y Deportes son similares, sin diferencias significativas.</li>\n",
    "</ul>"
   ]
  },
  {
   "cell_type": "markdown",
   "metadata": {},
   "source": [
    "<h3>1. <strong>Formulaci&oacute;n de las hip&oacute;tesis nula y alternativa:</strong></h3>\n",
    "<h4>Hip&oacute;tesis 1 (Xbox One vs PC):</h4>\n",
    "<ul>\n",
    "<li><strong>Hip&oacute;tesis nula (H₀):</strong> Las calificaciones promedio de los usuarios para las plataformas Xbox One y PC son iguales.\n",
    "<ul>\n",
    "<li>Matem&aacute;ticamente: H0:&mu;XboxOne=&mu;PCH_0: \\mu_{\\text{Xbox One}} = \\mu_{\\text{PC}}H0:&mu;XboxOne=&mu;PC</li>\n",
    "</ul>\n",
    "</li>\n",
    "<li><strong>Hip&oacute;tesis alternativa (H₁):</strong> Las calificaciones promedio de los usuarios para las plataformas Xbox One y PC son diferentes.\n",
    "<ul>\n",
    "<li>Matem&aacute;ticamente: H1:&mu;XboxOne&ne;&mu;PCH_1: \\mu_{\\text{Xbox One}} \\neq \\mu_{\\text{PC}}H1:&mu;XboxOne=&mu;PC</li>\n",
    "</ul>\n",
    "</li>\n",
    "</ul>\n",
    "<h4>Hip&oacute;tesis 2 (Acci&oacute;n vs Deportes):</h4>\n",
    "<ul>\n",
    "<li><strong>Hip&oacute;tesis nula (H₀):</strong> Las calificaciones promedio de los usuarios para los g&eacute;neros de Acci&oacute;n y Deportes son iguales.\n",
    "<ul>\n",
    "<li>Matem&aacute;ticamente: H0:&mu;Accioˊn=&mu;DeportesH_0: \\mu_{\\text{Acci&oacute;n}} = \\mu_{\\text{Deportes}}H0:&mu;Accioˊn=&mu;Deportes</li>\n",
    "</ul>\n",
    "</li>\n",
    "<li><strong>Hip&oacute;tesis alternativa (H₁):</strong> Las calificaciones promedio de los usuarios para los g&eacute;neros de Acci&oacute;n y Deportes son diferentes.\n",
    "<ul>\n",
    "<li>Matem&aacute;ticamente: H1:&mu;Accioˊn&ne;&mu;DeportesH_1: \\mu_{\\text{Acci&oacute;n}} \\neq \\mu_{\\text{Deportes}}H1:&mu;Accioˊn=&mu;Deportes</li>\n",
    "</ul>\n",
    "</li>\n",
    "</ul>\n",
    "<h3>2. <strong>Criterio utilizado para probar las hip&oacute;tesis:</strong></h3>\n",
    "<p>Utilizamos la <strong>prueba t de Student</strong> para muestras independientes. El criterio principal es comparar el valor p con un nivel de significancia previamente definido (&alpha;\\alpha&alpha;).</p>\n",
    "<h4>Proceso de decisi&oacute;n:</h4>\n",
    "<ul>\n",
    "<li><strong>Nivel de significancia (&alpha;):</strong> Usualmente se fija en 0.05, lo que significa que aceptamos un 5% de probabilidad de cometer un error de tipo I (rechazar la hip&oacute;tesis nula cuando es verdadera).</li>\n",
    "</ul>\n",
    "<h4>Raz&oacute;n para usar la prueba t de Student:</h4>\n",
    "<ul>\n",
    "<li><strong>Prueba t de dos muestras independientes:</strong> Este tipo de prueba es adecuado para comparar las medias de dos grupos independientes, lo cual es justo lo que buscamos.\n",
    "<ul>\n",
    "<li>Comparar las calificaciones promedio entre plataformas (Xbox One vs PC).</li>\n",
    "<li>Comparar las calificaciones promedio entre g&eacute;neros (Acci&oacute;n vs Deportes).</li>\n",
    "</ul>\n",
    "</li>\n",
    "</ul>\n",
    "<h4>Criterios para aceptar o rechazar la hip&oacute;tesis nula:</h4>\n",
    "<ul>\n",
    "<li>Si el valor p es menor que &alpha;\\alpha&alpha; (0.05), <strong>rechazamos la hip&oacute;tesis nula</strong> y concluimos que hay diferencias significativas entre las medias.</li>\n",
    "<li>Si el valor p es mayor que &alpha;\\alpha&alpha;, <strong>no rechazamos la hip&oacute;tesis nula</strong>, lo que indica que no hay evidencia suficiente para afirmar que las medias son diferentes.</li>\n",
    "</ul>\n",
    "\n",
    "<p></p>\n",
    "<ul>\n",
    "<li>Para Xbox One vs PC, el valor p fue mucho menor que 0.05, lo que nos llev&oacute; a rechazar la hip&oacute;tesis nula y concluir que las calificaciones son significativamente diferentes.</li>\n",
    "<li>Para Acci&oacute;n vs Deportes, el valor p fue mayor que 0.05, lo que indica que no hay evidencia suficiente para rechazar la hip&oacute;tesis nula, concluyendo que las calificaciones promedio son similares.</li>\n",
    "</ul>\n",
    "<p></p>"
   ]
  },
  {
   "cell_type": "markdown",
   "metadata": {},
   "source": [
    "<p></p>\n",
    "<ul>\n",
    "<li>\n",
    "<h3>Conclusi&oacute;n:</h3>\n",
    "<p>El an&aacute;lisis realizado sobre las ventas de videojuegos y las preferencias de los usuarios en distintas plataformas y generos ha revelado algunos resultados interesantes:</p>\n",
    "<ul>\n",
    "<li>\n",
    "<p><strong>Plataformas l&iacute;deres en ventas:</strong> Las plataformas que dominan el mercado var&iacute;an considerablemente entre regiones. Xbox y PlayStation tienen mayor alcance en Am&eacute;rica del Norte y Europa, mientras que en Jap&oacute;n, las plataformas locales como Nintendo DS y PSP tienen una mayor presencia. Es pronto para decirlo y se necesita un analisis mas produndo pero todo indica que las diferencias regionales son importantes y cada una tiene preferencias culturales de consumo.</p>\n",
    "</li>\n",
    "<li>\n",
    "<p><strong>Preferencias de g&eacute;nero:</strong> Los g&eacute;neros m&aacute;s populares tambi&eacute;n var&iacute;an entre regiones. Mientras que los juegos de Acci&oacute;n y Deportes son dominantes en Am&eacute;rica del Norte y Europa, los juegos de Rol y Acci&oacute;n son m&aacute;s apreciados en Jap&oacute;n. Esto puede ser un gran indicativo para tomar en cuenta la diferencia en las preferencias y las estrategias de venta segun cada una</p>\n",
    "</li>\n",
    "<li>\n",
    "<p><strong>Impacto de las calificaciones:</strong> El analisis de las criticas de usuarios y cr&iacute;ticos mostr&oacute; que las plataformas como Xbox One y PC tienen calificaciones significativamente diferentes, esto podria tener impacto en las decisiones de compra. Sin embargo, no se encontraron diferencias significativas en las calificaciones promedio entre los g&eacute;neros de Acci&oacute;n y Deportes, lo que indica un recibimiento similar entre los jugadores de estos generos en distintas plataformas.</p>\n",
    "</li>\n",
    "<li>\n",
    "<p><strong>Ciclo de vida de las plataformas:</strong> Observamos que las plataformas tienden a seguir un ciclo de vida en el que alcanzan la popularidad m&aacute;xima en un periodo espec&iacute;fico, seguido por una disminuci&oacute;n en las ventas. Las plataformas m&aacute;s nuevas tardan unos a&ntilde;os en alcanzar su punto m&aacute;ximo, mientras que las m&aacute;s antiguas experimentan una ca&iacute;da progresiva hasta desaparecer del mercado.</p>\n",
    "</li>\n",
    "</ul>\n",
    "<p>En resumen, el an&aacute;lisis es bastante extenso y amplio pero se destaca por la importancia de entender las diferencias regionales y de plataforma para desarrollar estrategias efectivas de ventas y marketing. Los resultados tambi&eacute;n muestran el impacto que tienen las rese&ntilde;as de usuarios y cr&iacute;ticos en el comportamiento de los consumidores, todos estos son puntos clave que puede ser decisivos para el &eacute;xito en el actual mercado altamente competitivo.</p>\n",
    "<p></p>\n",
    "</li>\n",
    "</ul>"
   ]
  },
  {
   "cell_type": "markdown",
   "metadata": {},
   "source": [
    "\n",
    "<div class=\"alert alert-block alert-warning\">\n",
    "<b>Comentario revisor</b> <a class=\"tocSkip\"></a>\n",
    "\n",
    "En general creo que hiciste un muy buen trabajo con el proyecto, pudiste limpiar y trabajar las bases de datos de beuna manera. Además, el análisis explorario de datos fue completo al mostrar resultados relevantes que pueden ser de mucha utilidad para la toma de decisiones y desarrollaste las pruebas de hipótesis de una buena manera. No obstante, recuerda que siempre podemos mejorar y te menciono algunos puntos que debes considerar:\n",
    "\n",
    "\n",
    "*  Considerar eliminar registros atipicos que puedan sesgar nuestros resultados. \n",
    "    \n",
    "*  Considerar desarrollar un análisis para comprobar los supuestos de la prueba de hipótesis (varianzas iguales)\n",
    "    \n",
    "</div>"
   ]
  },
  {
   "cell_type": "markdown",
   "metadata": {},
   "source": [
    "<div class=\"alert alert-block alert-info\">\n",
    "<b>Respuesta del estudiante.</b> <a class=\"tocSkip\"></a>\n",
    "\n",
    "[muchas gracias por los comentarios y la retro alimentacion, han sido de mucha ayuda. quedo a espera de la nueva revision.  saludos]\n",
    "</div>\n"
   ]
  },
  {
   "cell_type": "markdown",
   "metadata": {},
   "source": [
    "<div class=\"alert alert-block alert-success\">\n",
    "<b>Comentario del revisor</b> <a class=\"tocSkip\"></a>\n",
    "\n",
    "Gran trabajo con los ajustes! Que sigas disfrutando los siguientes cursos!\n",
    "</div>"
   ]
  }
 ],
 "metadata": {
  "ExecuteTimeLog": [
   {
    "duration": 828,
    "start_time": "2024-08-31T03:25:45.677Z"
   },
   {
    "duration": 60,
    "start_time": "2024-08-31T03:27:56.065Z"
   },
   {
    "duration": 59,
    "start_time": "2024-08-31T03:28:10.691Z"
   },
   {
    "duration": 59,
    "start_time": "2024-08-31T03:29:28.274Z"
   },
   {
    "duration": 57,
    "start_time": "2024-08-31T03:31:16.646Z"
   },
   {
    "duration": 59,
    "start_time": "2024-08-31T03:32:58.029Z"
   },
   {
    "duration": 57,
    "start_time": "2024-08-31T03:33:10.441Z"
   },
   {
    "duration": 72,
    "start_time": "2024-08-31T03:34:19.755Z"
   },
   {
    "duration": 57,
    "start_time": "2024-08-31T03:35:42.129Z"
   },
   {
    "duration": 66,
    "start_time": "2024-08-31T03:38:34.556Z"
   },
   {
    "duration": 12,
    "start_time": "2024-08-31T03:38:43.939Z"
   },
   {
    "duration": 14,
    "start_time": "2024-08-31T03:39:27.213Z"
   },
   {
    "duration": 13,
    "start_time": "2024-08-31T03:39:40.551Z"
   },
   {
    "duration": 61,
    "start_time": "2024-08-31T03:40:26.681Z"
   },
   {
    "duration": 2,
    "start_time": "2024-08-31T03:42:41.085Z"
   },
   {
    "duration": 59,
    "start_time": "2024-08-31T03:43:07.446Z"
   },
   {
    "duration": 6,
    "start_time": "2024-08-31T03:44:01.762Z"
   },
   {
    "duration": 5,
    "start_time": "2024-08-31T03:44:09.565Z"
   },
   {
    "duration": 58,
    "start_time": "2024-08-31T03:44:54.536Z"
   },
   {
    "duration": 61,
    "start_time": "2024-08-31T04:06:02.888Z"
   },
   {
    "duration": 156,
    "start_time": "2024-08-31T05:02:45.565Z"
   },
   {
    "duration": 5,
    "start_time": "2024-08-31T05:03:03.004Z"
   },
   {
    "duration": 16,
    "start_time": "2024-08-31T05:03:09.780Z"
   },
   {
    "duration": 293,
    "start_time": "2024-08-31T05:03:30.562Z"
   },
   {
    "duration": 115,
    "start_time": "2024-08-31T05:04:20.020Z"
   },
   {
    "duration": 75,
    "start_time": "2024-08-31T05:04:40.321Z"
   },
   {
    "duration": 81,
    "start_time": "2024-08-31T05:04:51.189Z"
   },
   {
    "duration": 2483,
    "start_time": "2024-09-02T05:48:32.977Z"
   },
   {
    "duration": 108,
    "start_time": "2024-09-02T05:48:35.462Z"
   },
   {
    "duration": 48,
    "start_time": "2024-09-02T05:49:09.619Z"
   },
   {
    "duration": 210,
    "start_time": "2024-09-02T05:50:09.190Z"
   },
   {
    "duration": 12,
    "start_time": "2024-09-02T05:50:22.495Z"
   },
   {
    "duration": 7,
    "start_time": "2024-09-02T05:50:41.958Z"
   },
   {
    "duration": 13,
    "start_time": "2024-09-02T05:51:35.690Z"
   },
   {
    "duration": 3,
    "start_time": "2024-09-02T05:51:41.891Z"
   },
   {
    "duration": 15,
    "start_time": "2024-09-02T06:08:56.657Z"
   },
   {
    "duration": 15,
    "start_time": "2024-09-02T06:09:24.313Z"
   },
   {
    "duration": 4,
    "start_time": "2024-09-02T06:09:32.129Z"
   },
   {
    "duration": 13,
    "start_time": "2024-09-02T06:10:05.787Z"
   },
   {
    "duration": 14,
    "start_time": "2024-09-02T06:10:15.960Z"
   },
   {
    "duration": 12,
    "start_time": "2024-09-02T06:10:24.377Z"
   },
   {
    "duration": 7,
    "start_time": "2024-09-02T06:11:15.955Z"
   },
   {
    "duration": 15,
    "start_time": "2024-09-02T06:16:58.222Z"
   },
   {
    "duration": 110,
    "start_time": "2024-09-02T06:19:41.880Z"
   },
   {
    "duration": 39,
    "start_time": "2024-09-02T06:20:06.048Z"
   },
   {
    "duration": 40,
    "start_time": "2024-09-02T06:20:18.945Z"
   },
   {
    "duration": 38,
    "start_time": "2024-09-02T06:20:42.062Z"
   },
   {
    "duration": 7,
    "start_time": "2024-09-02T06:22:51.035Z"
   },
   {
    "duration": 16,
    "start_time": "2024-09-02T06:31:44.825Z"
   },
   {
    "duration": 7,
    "start_time": "2024-09-02T06:33:25.676Z"
   },
   {
    "duration": 14,
    "start_time": "2024-09-02T06:33:45.396Z"
   },
   {
    "duration": 12,
    "start_time": "2024-09-02T06:36:41.610Z"
   },
   {
    "duration": 20,
    "start_time": "2024-09-02T06:39:55.833Z"
   },
   {
    "duration": 450,
    "start_time": "2024-09-02T06:41:31.158Z"
   },
   {
    "duration": 3,
    "start_time": "2024-09-02T06:42:56.829Z"
   },
   {
    "duration": 13,
    "start_time": "2024-09-02T06:43:22.202Z"
   },
   {
    "duration": 162,
    "start_time": "2024-09-02T14:57:05.007Z"
   },
   {
    "duration": 2613,
    "start_time": "2024-09-02T14:57:36.543Z"
   },
   {
    "duration": 57,
    "start_time": "2024-09-02T14:57:39.158Z"
   },
   {
    "duration": 8,
    "start_time": "2024-09-02T14:57:39.217Z"
   },
   {
    "duration": 14,
    "start_time": "2024-09-02T14:57:39.227Z"
   },
   {
    "duration": 16,
    "start_time": "2024-09-02T14:57:39.243Z"
   },
   {
    "duration": 13,
    "start_time": "2024-09-02T14:57:39.261Z"
   },
   {
    "duration": 40,
    "start_time": "2024-09-02T14:57:39.275Z"
   },
   {
    "duration": 2,
    "start_time": "2024-09-02T14:57:48.507Z"
   },
   {
    "duration": 38,
    "start_time": "2024-09-02T14:57:48.512Z"
   },
   {
    "duration": 8,
    "start_time": "2024-09-02T14:57:48.552Z"
   },
   {
    "duration": 15,
    "start_time": "2024-09-02T14:57:48.562Z"
   },
   {
    "duration": 34,
    "start_time": "2024-09-02T14:57:48.579Z"
   },
   {
    "duration": 13,
    "start_time": "2024-09-02T14:57:48.615Z"
   },
   {
    "duration": 6,
    "start_time": "2024-09-02T14:57:48.632Z"
   },
   {
    "duration": 6,
    "start_time": "2024-09-02T15:01:17.642Z"
   },
   {
    "duration": 7,
    "start_time": "2024-09-02T15:02:11.824Z"
   },
   {
    "duration": 33,
    "start_time": "2024-09-02T15:06:28.080Z"
   },
   {
    "duration": 12357,
    "start_time": "2024-09-02T15:08:02.723Z"
   },
   {
    "duration": 12161,
    "start_time": "2024-09-02T15:08:51.805Z"
   },
   {
    "duration": 559,
    "start_time": "2024-09-02T15:09:24.144Z"
   },
   {
    "duration": 201,
    "start_time": "2024-09-02T15:10:37.265Z"
   },
   {
    "duration": 11899,
    "start_time": "2024-09-02T15:12:10.216Z"
   },
   {
    "duration": 600,
    "start_time": "2024-09-02T15:12:27.398Z"
   },
   {
    "duration": 12223,
    "start_time": "2024-09-02T15:13:57.827Z"
   },
   {
    "duration": 309,
    "start_time": "2024-09-02T15:17:00.152Z"
   },
   {
    "duration": 975,
    "start_time": "2024-09-02T15:18:51.495Z"
   },
   {
    "duration": 7,
    "start_time": "2024-09-02T15:37:41.688Z"
   },
   {
    "duration": 16,
    "start_time": "2024-09-02T15:46:01.013Z"
   },
   {
    "duration": 16,
    "start_time": "2024-09-02T16:07:02.110Z"
   },
   {
    "duration": 311,
    "start_time": "2024-09-02T16:13:56.351Z"
   },
   {
    "duration": 8,
    "start_time": "2024-09-02T16:15:46.227Z"
   },
   {
    "duration": 85,
    "start_time": "2024-09-02T16:44:25.214Z"
   },
   {
    "duration": 1017,
    "start_time": "2024-09-02T16:44:38.426Z"
   },
   {
    "duration": 359,
    "start_time": "2024-09-02T16:44:44.110Z"
   },
   {
    "duration": 546,
    "start_time": "2024-09-02T16:44:48.686Z"
   },
   {
    "duration": 364,
    "start_time": "2024-09-02T16:46:34.773Z"
   },
   {
    "duration": 299,
    "start_time": "2024-09-02T16:46:52.838Z"
   },
   {
    "duration": 357,
    "start_time": "2024-09-02T16:46:57.953Z"
   },
   {
    "duration": 400,
    "start_time": "2024-09-02T16:49:02.970Z"
   },
   {
    "duration": 19,
    "start_time": "2024-09-02T16:49:46.644Z"
   },
   {
    "duration": 3,
    "start_time": "2024-09-02T16:50:00.731Z"
   },
   {
    "duration": 35,
    "start_time": "2024-09-02T16:50:00.738Z"
   },
   {
    "duration": 8,
    "start_time": "2024-09-02T16:50:00.775Z"
   },
   {
    "duration": 15,
    "start_time": "2024-09-02T16:50:00.784Z"
   },
   {
    "duration": 15,
    "start_time": "2024-09-02T16:50:00.801Z"
   },
   {
    "duration": 18,
    "start_time": "2024-09-02T16:50:00.817Z"
   },
   {
    "duration": 6,
    "start_time": "2024-09-02T16:50:00.837Z"
   },
   {
    "duration": 23,
    "start_time": "2024-09-02T16:50:00.845Z"
   },
   {
    "duration": 329,
    "start_time": "2024-09-02T16:50:00.870Z"
   },
   {
    "duration": 21,
    "start_time": "2024-09-02T16:50:01.201Z"
   },
   {
    "duration": 3,
    "start_time": "2024-09-02T16:50:12.648Z"
   },
   {
    "duration": 60,
    "start_time": "2024-09-02T16:50:12.655Z"
   },
   {
    "duration": 7,
    "start_time": "2024-09-02T16:50:12.717Z"
   },
   {
    "duration": 15,
    "start_time": "2024-09-02T16:50:12.725Z"
   },
   {
    "duration": 15,
    "start_time": "2024-09-02T16:50:12.742Z"
   },
   {
    "duration": 12,
    "start_time": "2024-09-02T16:50:12.759Z"
   },
   {
    "duration": 36,
    "start_time": "2024-09-02T16:50:12.773Z"
   },
   {
    "duration": 21,
    "start_time": "2024-09-02T16:50:12.810Z"
   },
   {
    "duration": 316,
    "start_time": "2024-09-02T16:50:12.833Z"
   },
   {
    "duration": 20,
    "start_time": "2024-09-02T16:50:13.151Z"
   },
   {
    "duration": 1014,
    "start_time": "2024-09-02T16:51:15.308Z"
   },
   {
    "duration": 400,
    "start_time": "2024-09-02T16:52:42.019Z"
   },
   {
    "duration": 526,
    "start_time": "2024-09-02T16:58:27.533Z"
   },
   {
    "duration": 4,
    "start_time": "2024-09-02T16:59:23.986Z"
   },
   {
    "duration": 36,
    "start_time": "2024-09-02T16:59:45.205Z"
   },
   {
    "duration": 4,
    "start_time": "2024-09-02T17:10:29.925Z"
   },
   {
    "duration": 16,
    "start_time": "2024-09-02T17:12:44.477Z"
   },
   {
    "duration": 14,
    "start_time": "2024-09-02T17:13:35.076Z"
   },
   {
    "duration": 14,
    "start_time": "2024-09-02T17:14:10.672Z"
   },
   {
    "duration": 16,
    "start_time": "2024-09-02T17:14:33.256Z"
   },
   {
    "duration": 2523,
    "start_time": "2024-09-03T14:41:23.553Z"
   },
   {
    "duration": 62,
    "start_time": "2024-09-03T14:41:26.078Z"
   },
   {
    "duration": 8,
    "start_time": "2024-09-03T14:41:26.142Z"
   },
   {
    "duration": 14,
    "start_time": "2024-09-03T14:41:26.152Z"
   },
   {
    "duration": 15,
    "start_time": "2024-09-03T14:41:26.169Z"
   },
   {
    "duration": 12,
    "start_time": "2024-09-03T14:41:26.186Z"
   },
   {
    "duration": 6,
    "start_time": "2024-09-03T14:41:26.224Z"
   },
   {
    "duration": 20,
    "start_time": "2024-09-03T14:41:26.232Z"
   },
   {
    "duration": 287,
    "start_time": "2024-09-03T14:41:26.253Z"
   },
   {
    "duration": 269,
    "start_time": "2024-09-03T14:41:26.543Z"
   },
   {
    "duration": 0,
    "start_time": "2024-09-03T14:41:26.813Z"
   },
   {
    "duration": 0,
    "start_time": "2024-09-03T14:41:26.815Z"
   },
   {
    "duration": 0,
    "start_time": "2024-09-03T14:41:26.816Z"
   },
   {
    "duration": 3,
    "start_time": "2024-09-03T14:42:22.355Z"
   },
   {
    "duration": 136,
    "start_time": "2024-09-03T14:46:52.389Z"
   },
   {
    "duration": 322,
    "start_time": "2024-09-03T14:47:49.014Z"
   },
   {
    "duration": 246,
    "start_time": "2024-09-03T14:50:28.565Z"
   },
   {
    "duration": 6,
    "start_time": "2024-09-03T14:54:11.587Z"
   },
   {
    "duration": 6,
    "start_time": "2024-09-03T14:55:33.303Z"
   },
   {
    "duration": 219,
    "start_time": "2024-09-03T14:57:31.489Z"
   },
   {
    "duration": 223,
    "start_time": "2024-09-03T15:00:30.776Z"
   },
   {
    "duration": 300,
    "start_time": "2024-09-03T15:01:10.724Z"
   },
   {
    "duration": 281,
    "start_time": "2024-09-03T15:11:17.467Z"
   },
   {
    "duration": 7,
    "start_time": "2024-09-03T15:27:13.870Z"
   },
   {
    "duration": 9,
    "start_time": "2024-09-03T15:47:44.441Z"
   },
   {
    "duration": 9,
    "start_time": "2024-09-03T15:50:57.047Z"
   },
   {
    "duration": 9,
    "start_time": "2024-09-03T15:51:45.977Z"
   },
   {
    "duration": 10,
    "start_time": "2024-09-03T15:55:41.015Z"
   },
   {
    "duration": 300,
    "start_time": "2024-09-03T16:07:23.361Z"
   },
   {
    "duration": 2815,
    "start_time": "2024-09-04T04:46:14.757Z"
   },
   {
    "duration": 463,
    "start_time": "2024-09-04T04:49:03.343Z"
   },
   {
    "duration": 6,
    "start_time": "2024-09-04T04:49:50.593Z"
   },
   {
    "duration": 5,
    "start_time": "2024-09-04T04:49:56.477Z"
   },
   {
    "duration": 29,
    "start_time": "2024-09-04T04:50:14.528Z"
   },
   {
    "duration": 6,
    "start_time": "2024-09-04T04:51:44.001Z"
   },
   {
    "duration": 8,
    "start_time": "2024-09-04T04:52:21.566Z"
   },
   {
    "duration": 1030,
    "start_time": "2024-09-04T04:53:11.194Z"
   },
   {
    "duration": 2489,
    "start_time": "2024-09-04T16:29:52.528Z"
   },
   {
    "duration": 5,
    "start_time": "2024-09-04T16:42:57.249Z"
   },
   {
    "duration": 6,
    "start_time": "2024-09-04T16:43:03.160Z"
   },
   {
    "duration": 249,
    "start_time": "2024-09-04T16:47:09.705Z"
   },
   {
    "duration": 20,
    "start_time": "2024-09-04T16:49:31.254Z"
   },
   {
    "duration": 524,
    "start_time": "2024-09-04T16:49:44.001Z"
   },
   {
    "duration": 221,
    "start_time": "2024-09-04T16:50:50.856Z"
   },
   {
    "duration": 32,
    "start_time": "2024-09-04T17:03:01.664Z"
   },
   {
    "duration": 54,
    "start_time": "2024-09-04T17:04:00.548Z"
   },
   {
    "duration": 22,
    "start_time": "2024-09-04T17:05:01.309Z"
   },
   {
    "duration": 586,
    "start_time": "2024-09-05T04:43:08.646Z"
   },
   {
    "duration": 43,
    "start_time": "2024-09-05T04:43:59.023Z"
   },
   {
    "duration": 18,
    "start_time": "2024-09-05T04:56:51.490Z"
   },
   {
    "duration": 27,
    "start_time": "2024-09-05T04:58:14.766Z"
   },
   {
    "duration": 359,
    "start_time": "2024-09-05T04:59:07.053Z"
   },
   {
    "duration": 28,
    "start_time": "2024-09-05T04:59:30.140Z"
   },
   {
    "duration": 50,
    "start_time": "2024-09-05T04:59:49.494Z"
   },
   {
    "duration": 27,
    "start_time": "2024-09-05T05:00:31.338Z"
   },
   {
    "duration": 2384,
    "start_time": "2024-09-05T05:01:19.354Z"
   },
   {
    "duration": 159,
    "start_time": "2024-09-05T12:07:28.502Z"
   },
   {
    "duration": 14,
    "start_time": "2024-09-05T12:09:20.621Z"
   },
   {
    "duration": 2554,
    "start_time": "2024-09-05T12:10:38.863Z"
   },
   {
    "duration": 61,
    "start_time": "2024-09-05T12:10:41.419Z"
   },
   {
    "duration": 7,
    "start_time": "2024-09-05T12:10:41.482Z"
   },
   {
    "duration": 15,
    "start_time": "2024-09-05T12:10:41.492Z"
   },
   {
    "duration": 26,
    "start_time": "2024-09-05T12:10:41.508Z"
   },
   {
    "duration": 12,
    "start_time": "2024-09-05T12:10:41.536Z"
   },
   {
    "duration": 6,
    "start_time": "2024-09-05T12:10:41.550Z"
   },
   {
    "duration": 20,
    "start_time": "2024-09-05T12:10:41.557Z"
   },
   {
    "duration": 287,
    "start_time": "2024-09-05T12:10:41.579Z"
   },
   {
    "duration": 352,
    "start_time": "2024-09-05T12:10:41.870Z"
   },
   {
    "duration": 14,
    "start_time": "2024-09-05T12:10:42.224Z"
   },
   {
    "duration": 77,
    "start_time": "2024-09-05T12:10:42.240Z"
   },
   {
    "duration": 0,
    "start_time": "2024-09-05T12:10:42.331Z"
   },
   {
    "duration": 0,
    "start_time": "2024-09-05T12:10:42.332Z"
   },
   {
    "duration": 0,
    "start_time": "2024-09-05T12:10:42.334Z"
   },
   {
    "duration": 0,
    "start_time": "2024-09-05T12:10:42.335Z"
   },
   {
    "duration": 0,
    "start_time": "2024-09-05T12:10:42.337Z"
   },
   {
    "duration": 0,
    "start_time": "2024-09-05T12:10:42.339Z"
   },
   {
    "duration": 371,
    "start_time": "2024-09-05T12:11:10.652Z"
   },
   {
    "duration": 27,
    "start_time": "2024-09-05T12:11:12.837Z"
   },
   {
    "duration": 364,
    "start_time": "2024-09-05T12:11:15.748Z"
   },
   {
    "duration": 20,
    "start_time": "2024-09-05T12:15:09.941Z"
   },
   {
    "duration": 46,
    "start_time": "2024-09-05T12:15:17.947Z"
   },
   {
    "duration": 334,
    "start_time": "2024-09-05T12:15:19.583Z"
   },
   {
    "duration": 14,
    "start_time": "2024-09-05T12:15:21.811Z"
   },
   {
    "duration": 183,
    "start_time": "2024-09-05T12:15:24.276Z"
   },
   {
    "duration": 18,
    "start_time": "2024-09-05T12:15:29.479Z"
   },
   {
    "duration": 16,
    "start_time": "2024-09-05T12:15:30.362Z"
   },
   {
    "duration": 26,
    "start_time": "2024-09-05T12:15:32.633Z"
   },
   {
    "duration": 385,
    "start_time": "2024-09-05T12:15:33.207Z"
   },
   {
    "duration": 3,
    "start_time": "2024-09-05T12:15:44.455Z"
   },
   {
    "duration": 42,
    "start_time": "2024-09-05T12:15:44.460Z"
   },
   {
    "duration": 8,
    "start_time": "2024-09-05T12:15:44.505Z"
   },
   {
    "duration": 14,
    "start_time": "2024-09-05T12:15:44.514Z"
   },
   {
    "duration": 16,
    "start_time": "2024-09-05T12:15:44.531Z"
   },
   {
    "duration": 13,
    "start_time": "2024-09-05T12:15:44.548Z"
   },
   {
    "duration": 6,
    "start_time": "2024-09-05T12:15:44.563Z"
   },
   {
    "duration": 21,
    "start_time": "2024-09-05T12:15:44.570Z"
   },
   {
    "duration": 292,
    "start_time": "2024-09-05T12:15:44.593Z"
   },
   {
    "duration": 332,
    "start_time": "2024-09-05T12:15:44.887Z"
   },
   {
    "duration": 13,
    "start_time": "2024-09-05T12:15:45.221Z"
   },
   {
    "duration": 15,
    "start_time": "2024-09-05T12:15:45.236Z"
   },
   {
    "duration": 0,
    "start_time": "2024-09-05T12:15:45.253Z"
   },
   {
    "duration": 0,
    "start_time": "2024-09-05T12:15:45.254Z"
   },
   {
    "duration": 0,
    "start_time": "2024-09-05T12:15:45.256Z"
   },
   {
    "duration": 1,
    "start_time": "2024-09-05T12:15:45.257Z"
   },
   {
    "duration": 0,
    "start_time": "2024-09-05T12:15:45.259Z"
   },
   {
    "duration": 3,
    "start_time": "2024-09-05T12:15:54.075Z"
   },
   {
    "duration": 37,
    "start_time": "2024-09-05T12:15:54.761Z"
   },
   {
    "duration": 8,
    "start_time": "2024-09-05T12:15:57.565Z"
   },
   {
    "duration": 14,
    "start_time": "2024-09-05T12:15:58.256Z"
   },
   {
    "duration": 16,
    "start_time": "2024-09-05T12:15:58.773Z"
   },
   {
    "duration": 13,
    "start_time": "2024-09-05T12:15:59.087Z"
   },
   {
    "duration": 7,
    "start_time": "2024-09-05T12:15:59.241Z"
   },
   {
    "duration": 22,
    "start_time": "2024-09-05T12:15:59.563Z"
   },
   {
    "duration": 370,
    "start_time": "2024-09-05T12:15:59.885Z"
   },
   {
    "duration": 340,
    "start_time": "2024-09-05T12:16:00.258Z"
   },
   {
    "duration": 9,
    "start_time": "2024-09-05T12:16:00.600Z"
   },
   {
    "duration": 15,
    "start_time": "2024-09-05T12:16:00.682Z"
   },
   {
    "duration": 181,
    "start_time": "2024-09-05T12:16:01.008Z"
   },
   {
    "duration": 17,
    "start_time": "2024-09-05T12:16:01.326Z"
   },
   {
    "duration": 17,
    "start_time": "2024-09-05T12:16:01.495Z"
   },
   {
    "duration": 26,
    "start_time": "2024-09-05T12:16:02.034Z"
   },
   {
    "duration": 398,
    "start_time": "2024-09-05T12:16:02.193Z"
   },
   {
    "duration": 397,
    "start_time": "2024-09-05T12:17:33.270Z"
   },
   {
    "duration": 45,
    "start_time": "2024-09-05T12:19:42.366Z"
   },
   {
    "duration": 126,
    "start_time": "2024-09-05T12:27:37.826Z"
   },
   {
    "duration": 400,
    "start_time": "2024-09-05T12:27:54.107Z"
   },
   {
    "duration": 45,
    "start_time": "2024-09-05T12:33:26.404Z"
   },
   {
    "duration": 522,
    "start_time": "2024-09-05T12:34:09.269Z"
   },
   {
    "duration": 22,
    "start_time": "2024-09-05T12:35:19.218Z"
   },
   {
    "duration": 17,
    "start_time": "2024-09-05T12:35:21.150Z"
   },
   {
    "duration": 26,
    "start_time": "2024-09-05T12:36:18.164Z"
   },
   {
    "duration": 18,
    "start_time": "2024-09-05T12:36:19.338Z"
   },
   {
    "duration": 294,
    "start_time": "2024-09-05T12:45:02.385Z"
   },
   {
    "duration": 17,
    "start_time": "2024-09-05T12:46:38.962Z"
   },
   {
    "duration": 2593,
    "start_time": "2024-09-08T04:56:50.029Z"
   },
   {
    "duration": 62,
    "start_time": "2024-09-08T04:56:52.624Z"
   },
   {
    "duration": 7,
    "start_time": "2024-09-08T04:56:52.688Z"
   },
   {
    "duration": 15,
    "start_time": "2024-09-08T04:56:52.697Z"
   },
   {
    "duration": 17,
    "start_time": "2024-09-08T04:56:52.713Z"
   },
   {
    "duration": 13,
    "start_time": "2024-09-08T04:56:52.731Z"
   },
   {
    "duration": 7,
    "start_time": "2024-09-08T04:56:52.745Z"
   },
   {
    "duration": 22,
    "start_time": "2024-09-08T04:56:52.753Z"
   },
   {
    "duration": 302,
    "start_time": "2024-09-08T04:56:52.777Z"
   },
   {
    "duration": 391,
    "start_time": "2024-09-08T04:56:53.084Z"
   },
   {
    "duration": 11,
    "start_time": "2024-09-08T04:56:53.476Z"
   },
   {
    "duration": 233,
    "start_time": "2024-09-08T04:56:53.488Z"
   },
   {
    "duration": 0,
    "start_time": "2024-09-08T04:56:53.722Z"
   },
   {
    "duration": 0,
    "start_time": "2024-09-08T04:56:53.724Z"
   },
   {
    "duration": 0,
    "start_time": "2024-09-08T04:56:53.724Z"
   },
   {
    "duration": 0,
    "start_time": "2024-09-08T04:56:53.725Z"
   },
   {
    "duration": 0,
    "start_time": "2024-09-08T04:56:53.727Z"
   },
   {
    "duration": 0,
    "start_time": "2024-09-08T04:56:53.728Z"
   },
   {
    "duration": 0,
    "start_time": "2024-09-08T04:56:53.730Z"
   },
   {
    "duration": 0,
    "start_time": "2024-09-08T04:56:53.731Z"
   },
   {
    "duration": 428,
    "start_time": "2024-09-08T06:00:33.709Z"
   },
   {
    "duration": 189,
    "start_time": "2024-09-08T06:01:13.117Z"
   },
   {
    "duration": 4,
    "start_time": "2024-09-08T06:01:52.468Z"
   },
   {
    "duration": 233,
    "start_time": "2024-09-08T06:02:59.724Z"
   },
   {
    "duration": 19,
    "start_time": "2024-09-08T06:03:19.866Z"
   },
   {
    "duration": 3,
    "start_time": "2024-09-08T06:03:29.486Z"
   },
   {
    "duration": 3,
    "start_time": "2024-09-08T06:03:29.737Z"
   },
   {
    "duration": 3,
    "start_time": "2024-09-08T06:03:29.933Z"
   },
   {
    "duration": 3,
    "start_time": "2024-09-08T06:03:30.142Z"
   },
   {
    "duration": 37,
    "start_time": "2024-09-08T06:03:34.052Z"
   },
   {
    "duration": 8,
    "start_time": "2024-09-08T06:03:41.764Z"
   },
   {
    "duration": 15,
    "start_time": "2024-09-08T06:03:43.966Z"
   },
   {
    "duration": 17,
    "start_time": "2024-09-08T06:03:46.884Z"
   },
   {
    "duration": 13,
    "start_time": "2024-09-08T06:03:49.386Z"
   },
   {
    "duration": 8,
    "start_time": "2024-09-08T06:03:50.483Z"
   },
   {
    "duration": 257,
    "start_time": "2024-09-08T06:03:56.558Z"
   },
   {
    "duration": 417,
    "start_time": "2024-09-08T06:03:59.838Z"
   },
   {
    "duration": 10,
    "start_time": "2024-09-08T06:04:01.288Z"
   },
   {
    "duration": 47,
    "start_time": "2024-09-08T06:04:03.664Z"
   },
   {
    "duration": 17,
    "start_time": "2024-09-08T06:04:07.932Z"
   },
   {
    "duration": 21,
    "start_time": "2024-09-08T06:04:09.946Z"
   },
   {
    "duration": 26,
    "start_time": "2024-09-08T06:04:16.092Z"
   },
   {
    "duration": 438,
    "start_time": "2024-09-08T06:04:17.151Z"
   },
   {
    "duration": 376,
    "start_time": "2024-09-08T06:04:18.198Z"
   },
   {
    "duration": 397,
    "start_time": "2024-09-08T06:04:19.129Z"
   },
   {
    "duration": 16,
    "start_time": "2024-09-08T06:04:22.349Z"
   },
   {
    "duration": 17,
    "start_time": "2024-09-08T06:07:39.498Z"
   },
   {
    "duration": 20,
    "start_time": "2024-09-08T06:08:31.022Z"
   },
   {
    "duration": 10,
    "start_time": "2024-09-11T03:20:46.028Z"
   },
   {
    "duration": 5,
    "start_time": "2024-09-11T03:21:13.807Z"
   },
   {
    "duration": 186,
    "start_time": "2024-09-11T03:24:22.640Z"
   },
   {
    "duration": 676,
    "start_time": "2024-09-11T03:25:17.421Z"
   },
   {
    "duration": 62,
    "start_time": "2024-09-11T03:26:38.907Z"
   },
   {
    "duration": 41,
    "start_time": "2024-09-11T03:26:55.455Z"
   },
   {
    "duration": 2353,
    "start_time": "2024-09-11T03:28:09.833Z"
   },
   {
    "duration": 43,
    "start_time": "2024-09-11T03:28:12.189Z"
   },
   {
    "duration": 7,
    "start_time": "2024-09-11T03:28:12.243Z"
   },
   {
    "duration": 19,
    "start_time": "2024-09-11T03:28:12.253Z"
   },
   {
    "duration": 18,
    "start_time": "2024-09-11T03:28:12.274Z"
   },
   {
    "duration": 49,
    "start_time": "2024-09-11T03:28:12.294Z"
   },
   {
    "duration": 7,
    "start_time": "2024-09-11T03:28:12.345Z"
   },
   {
    "duration": 23,
    "start_time": "2024-09-11T03:28:12.354Z"
   },
   {
    "duration": 379,
    "start_time": "2024-09-11T03:28:12.379Z"
   },
   {
    "duration": 353,
    "start_time": "2024-09-11T03:28:12.762Z"
   },
   {
    "duration": 9,
    "start_time": "2024-09-11T03:28:13.117Z"
   },
   {
    "duration": 274,
    "start_time": "2024-09-11T03:28:13.128Z"
   },
   {
    "duration": 199,
    "start_time": "2024-09-11T03:28:13.404Z"
   },
   {
    "duration": 17,
    "start_time": "2024-09-11T03:28:13.604Z"
   },
   {
    "duration": 33,
    "start_time": "2024-09-11T03:28:13.623Z"
   },
   {
    "duration": 27,
    "start_time": "2024-09-11T03:28:13.657Z"
   },
   {
    "duration": 439,
    "start_time": "2024-09-11T03:28:13.686Z"
   },
   {
    "duration": 399,
    "start_time": "2024-09-11T03:28:14.127Z"
   },
   {
    "duration": 516,
    "start_time": "2024-09-11T03:28:14.528Z"
   },
   {
    "duration": 17,
    "start_time": "2024-09-11T03:28:15.047Z"
   },
   {
    "duration": 253,
    "start_time": "2024-09-11T03:30:42.233Z"
   },
   {
    "duration": 5,
    "start_time": "2024-09-11T03:33:19.534Z"
   },
   {
    "duration": 4,
    "start_time": "2024-09-11T03:33:47.243Z"
   },
   {
    "duration": 18,
    "start_time": "2024-09-11T03:40:22.975Z"
   },
   {
    "duration": 8,
    "start_time": "2024-09-11T05:01:45.482Z"
   },
   {
    "duration": 4,
    "start_time": "2024-09-11T05:21:51.995Z"
   }
  ],
  "kernelspec": {
   "display_name": "Python 3 (ipykernel)",
   "language": "python",
   "name": "python3"
  },
  "language_info": {
   "codemirror_mode": {
    "name": "ipython",
    "version": 3
   },
   "file_extension": ".py",
   "mimetype": "text/x-python",
   "name": "python",
   "nbconvert_exporter": "python",
   "pygments_lexer": "ipython3",
   "version": "3.9.19"
  },
  "toc": {
   "base_numbering": 1,
   "nav_menu": {},
   "number_sections": true,
   "sideBar": true,
   "skip_h1_title": true,
   "title_cell": "Table of Contents",
   "title_sidebar": "Contents",
   "toc_cell": false,
   "toc_position": {},
   "toc_section_display": true,
   "toc_window_display": false
  }
 },
 "nbformat": 4,
 "nbformat_minor": 2
}
